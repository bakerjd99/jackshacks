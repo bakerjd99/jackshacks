{
 "cells": [
  {
   "cell_type": "markdown",
   "id": "5f20d7b4",
   "metadata": {},
   "source": [
    "# `riseset` Examples\n",
    "\n",
    "This notebook demonstrates the [J riseset script](https://github.com/bakerjd99/jackshacks/blob/main/riseset.ijs).  `riseset` computes the rise, transit, and set times of named [IAU Stars](https://www.iau.org/).\n",
    "\n",
    "To run this notebook you must install a J jupyter kernel. See Martin Saurer's [GitHub repository](https://github.com/martin-saurer/jkernel) for instructions."
   ]
  },
  {
   "cell_type": "code",
   "execution_count": 1,
   "id": "4f851209",
   "metadata": {},
   "outputs": [
    {
     "name": "stdout",
     "output_type": "stream",
     "text": [
      "\n",
      "j9.4.2/j64avx2/windows/commercial/www.jsoftware.com/2023-04-10T01:19:53/clang-15-0-7/SLEEF=1\n",
      "2023 5 16 13 8 28.553\n",
      "\n"
     ]
    }
   ],
   "source": [
    "NB. J version and date\n",
    "smoutput 9!:14 ''\n",
    "smoutput 6!:0 ''\n",
    "\n",
    "NB. set portable box drawing characters\n",
    "portchars=:[: 9!:7 '+++++++++|-'\"_ [ ]\n",
    "portchars 0"
   ]
  },
  {
   "cell_type": "markdown",
   "id": "33b438e6",
   "metadata": {},
   "source": [
    "## Installation \n",
    "\n",
    "`riseset` is distributed as a J addon. It is installed in the J `~addons/jacks` folder. It can be installed from [GitHub](https://github.com/bakerjd99/jackshacks) with:"
   ]
  },
  {
   "cell_type": "code",
   "execution_count": 2,
   "id": "1e11749c",
   "metadata": {},
   "outputs": [],
   "source": [
    "load 'pacman'\n",
    "NB. smoutput install 'github:bakerjd99/jackshacks' NB. uncomment to install   "
   ]
  },
  {
   "cell_type": "markdown",
   "id": "b5a59388",
   "metadata": {},
   "source": [
    "The `jacks` (J-hacks) addons are self contained  [JOD generated](https://analyzethedatanotthedrivel.org/the-jod-page/) J scripts. Each `ijs` script is accompanied with `pdf` document that describes how to use it. Some scripts, like `riseset` are also packaged with a Jupyter notebook (this file) and a `pdf` version of the notebook. For example, the `riseset` files are:\n",
    "\n",
    "     riseset.ijs\n",
    "     riseset.pdf\n",
    "     riseset_notebook.ipynb\n",
    "     riseset_notebook.pdf\n",
    "\n",
    "There are other scripts in `~addons/jacks` and more will be added from time to time. To refresh the folder, reissue the install command.\n",
    "\n",
    "In addition to these files the subfolder `~addons/jacks/testdata` contains data files. `riseset` files in `testdata` are:\n",
    "\n",
    "     Bright_Stars_Meridian_Almanac_23mar27.md\n",
    "     iau_named_stars_2022.txt\n",
    "     Navigation_Stars.txt\n",
    "     "
   ]
  },
  {
   "cell_type": "code",
   "execution_count": 3,
   "id": "9649575d",
   "metadata": {},
   "outputs": [
    {
     "name": "stdout",
     "output_type": "stream",
     "text": [
      "testdata                 <dir>     08-Apr-23 13:03:53\n",
      "brandxmp.ijs                 13295 28-Mar-23 22:45:21\n",
      "brandxmp.pdf                125252 28-Mar-23 22:45:21\n",
      "gpxutils.ijs                 17079 13-Apr-23 10:07:39\n",
      "gpxutils.pdf                134318 13-Apr-23 10:07:39\n",
      "ipynb.ijs                     4699 28-Mar-23 22:45:21\n",
      "ipynb.pdf                    86966 28-Mar-23 22:45:21\n",
      "manifest.ijs                  1329 08-Apr-23 13:00:01\n",
      "riseset.ijs                  44327 10-May-23 11:22:12\n",
      "riseset.pdf                 218616 10-May-23 11:22:12\n",
      "riseset_notebook.ipynb       35014 27-Apr-23 12:40:09\n",
      "riseset_notebook.pdf         74421 27-Apr-23 12:40:09\n"
     ]
    }
   ],
   "source": [
    "NB. addon files\n",
    "dir '~addons/jacks'"
   ]
  },
  {
   "cell_type": "markdown",
   "id": "7ab81175",
   "metadata": {},
   "source": [
    "## Using `riseset`"
   ]
  },
  {
   "cell_type": "code",
   "execution_count": 4,
   "id": "fdd3160f",
   "metadata": {},
   "outputs": [
    {
     "name": "stdout",
     "output_type": "stream",
     "text": [
      "NB. (riseset) interface word(s): 20230510j110904\n",
      "NB. ----------------------------\n",
      "NB. baby_today  NB. named Babylonian stars rising/setting today\n",
      "NB. fmt_today   NB. format today verbs result\n",
      "NB. iau_today   NB. named IAU stars rising/setting today\n",
      "NB. loadstars   NB. loads riseset star data\n",
      "NB. nav_today   NB. named navigation stars rising/setting today\n",
      "NB. navdaylist  NB. sky safari 6_0 observing list of today's navigation stars\n",
      "NB. riseset     NB. rise, transit, set times of stars\n",
      "\n",
      "    fmt_today nav_today location_home 0\n",
      "\n",
      "NB. vmd: 0.9.82; 3; 10 May 2023 11:09:04\n"
     ]
    }
   ],
   "source": [
    "load '~addons/jacks/riseset.ijs'  NB. addon version\n",
    "NB. load 'riseset' NB. dev version\n",
    "\n",
    "smoutput 'NB. vmd: ' , ,'0,p<; >q<; >0,0' (8!:2) VMDriseset"
   ]
  },
  {
   "cell_type": "code",
   "execution_count": 5,
   "id": "f2ee0667",
   "metadata": {},
   "outputs": [
    {
     "name": "stdout",
     "output_type": "stream",
     "text": [
      "3 : 0\n",
      "\n",
      "NB.*location_yellowstone v-- set parameters for Old Faithful location.\n",
      "NB.\n",
      "NB. monad:  location_yellowstone uuIgnore\n",
      "NB.\n",
      "NB.   location_yellowstone 0  \n",
      "NB.   NB. uses location with current date\n",
      "NB.   iau_today 0             \n",
      "NB.\n",
      "NB. dyad:  bl =. flYmfd location_yellowstone uuIgnore\n",
      "NB.\n",
      "NB.   NB. uses location with yellowstone date\n",
      "NB.   (location_yellowstone 0) iau_today 0\n",
      "NB.\n",
      "NB.   NB. arbitrary dates for location\n",
      "NB.   fmt_today (1712 3 15.34 location_yellowstone 0) nav_today 0 \n",
      "NB.   fmt_today (location_yellowstone~ 1933 9 25.75) iau_today 0\n",
      "\n",
      "2013 5 7 location_yellowstone y\n",
      ":\n",
      "JULIAN_riseset_=: julfrcal ymd=. x\n",
      "\n",
      "NB. longitude, latitude with standard signs \n",
      "OBSLOCATION_riseset_=: _110.82792 44.46057\n",
      "LOCATIONNAME_riseset_=: 'Yellowstone - Old Faithful'\n",
      "\n",
      "UTCOFFSET_riseset_=: 6.0   NB. MST time zone\n",
      "LIMITMAG_riseset_=:  6.0   NB. stellar magnitude\n",
      "LIMITHORZ_riseset_=: 10    NB. degrees above horizon\n",
      "DARKTRS_riseset_=: 0       NB. minutes before and after sunset (0=ignore sun)\n",
      "\n",
      "ymd;JULIAN;OBSLOCATION;UTCOFFSET;LIMITMAG;LIMITHORZ;LOCATIONNAME;DARKTRS\n",
      ")\n"
     ]
    }
   ],
   "source": [
    "NB. set a location - add your own by cloning and modifying location verbs\n",
    "location_yellowstone"
   ]
  },
  {
   "cell_type": "code",
   "execution_count": 6,
   "id": "0f1899da",
   "metadata": {},
   "outputs": [
    {
     "name": "stdout",
     "output_type": "stream",
     "text": [
      "243\n",
      "Yellowstone - Old Faithful\n",
      " 5 55\n",
      "20 46\n",
      "6 10 0 2460080.75 73.504500953125 _110.82792 44.46057 2023 5 16.25 6\n",
      "+---------+-------+----+---+\n",
      "|Kang     |HR 5315|35  |0 3|\n",
      "+---------+-------+----+---+\n",
      "|Arcturus |HR 5340|64.5|0 5|\n",
      "+---------+-------+----+---+\n",
      "|Syrma    |HR 5338|39.5|0 6|\n",
      "+---------+-------+----+---+\n",
      "|Xuange   |HR 5351|88.5|0 6|\n",
      "+---------+-------+----+---+\n",
      "|Khambalia|HR 5359|32  |0 9|\n",
      "+---------+-------+----+---+\n"
     ]
    }
   ],
   "source": [
    "location_yellowstone 0\n",
    "'IAU locname sRs cParms'=: iau_today 0\n",
    "\n",
    "smoutput #IAU     NB. number of rising/setting IAU stars\n",
    "smoutput locname  NB. location\n",
    "smoutput sRs      NB. sunrise/sunset\n",
    "\n",
    "NB. magnitude, deg above horizon, dusk minutes, julian date, ΔT in seconds, longitude, latitude, year, month day.dd, UTCz\n",
    "smoutput cParms\n",
    "NB. star name, designation, transit altitude degrees, transit time 24 hours minutes\n",
    "smoutput 5 {. IAU"
   ]
  },
  {
   "cell_type": "markdown",
   "id": "4cac89d9",
   "metadata": {},
   "source": [
    "Detailed rise and set information is provided by `riseset`."
   ]
  },
  {
   "cell_type": "code",
   "execution_count": 7,
   "id": "4be8a002",
   "metadata": {},
   "outputs": [
    {
     "name": "stdout",
     "output_type": "stream",
     "text": [
      "2460030.75 73.40741357812496 _116.375956 43.646775 2023 3 27.25 6\n",
      "+-----+-+------------------------------+\n",
      "|Algol|0| 0.5  0.2910386461449466  6 59|\n",
      "|     | |87.5  0.6908345293917257 16 35|\n",
      "|     | | 0.5 0.09337060171945516  2 14|\n",
      "+-----+-+------------------------------+\n",
      "|Rigel|0|  1   0.5527905462948185 13 16|\n",
      "|     | | 38   0.7780712498266437 18 40|\n",
      "|     | |0.5 0.006088476753742347  0  9|\n",
      "+-----+-+------------------------------+\n",
      "|Spica|0|  1  0.9012706582406574 21 38 |\n",
      "|     | | 35 _0.8793144933635634  2 54 |\n",
      "|     | |0.5  0.3373585646884121  8  6 |\n",
      "+-----+-+------------------------------+\n"
     ]
    }
   ],
   "source": [
    "LB=:  _116.375956 43.646775   NB. Meridian \n",
    "YMD=: 2023 3 27\n",
    "UO=:  6                       NB. MST UTC offset\n",
    "\n",
    "NB. star name, (0=rises/sets), altitudes, times fractional day, times hours, minutes\n",
    "'Rs cParms'=: (YMD;UO;LB) riseset 'Algol';'Rigel';'Spica'\n",
    "smoutput cParms\n",
    "smoutput Rs"
   ]
  },
  {
   "cell_type": "markdown",
   "id": "3a17422a",
   "metadata": {},
   "source": [
    "`fmt_today` formats the results of various `_today` verbs."
   ]
  },
  {
   "cell_type": "code",
   "execution_count": 8,
   "id": "ddc9b19b",
   "metadata": {},
   "outputs": [
    {
     "name": "stdout",
     "output_type": "stream",
     "text": [
      "+----------------------------+\n",
      "|  Home - Meridian Location  |\n",
      "|             7 37 Sunrise   |\n",
      "|            20  7 Sunset    |\n",
      "|                3 Mag-Lim   |\n",
      "|               20 Above-Horz|\n",
      "|               60 Dusk-Min  |\n",
      "|       2460030.75 Julian    |\n",
      "|73.40741357812496 ΔT        |\n",
      "|      _116.375956 Longitude |\n",
      "|        43.646775 Latitude  |\n",
      "|             2023 Year      |\n",
      "|                3 Month     |\n",
      "|            27.25 Day.dd    |\n",
      "|                6 UTCz      |\n",
      "+----------------------------+\n",
      "+--------------+-----------+----------+-----------+\n",
      "|Name          |Designation|Tr-Alt-Deg|Tr-24-HrMin|\n",
      "+--------------+-----------+----------+-----------+\n",
      "|Zosma         |HR 4357    | 67.0     |  0 43     |\n",
      "|Denebola      |HR 4534    | 61.0     |  1 18     |\n",
      "|Gienah        |HR 4662    | 28.5     |  1 45     |\n",
      "|Algorab       |HR 4757    | 29.5     |  1 59     |\n",
      "|Kraz          |HR 4786    | 23.0     |  2  3     |\n",
      "|Porrima       |HR 4825    | 45.0     |  2 10     |\n",
      "|Cor Caroli    |HR 4915    | 84.5     |  2 25     |\n",
      "|Vindemiatrix  |HR 4932    | 57.0     |  2 31     |\n",
      "|Spica         |HR 5056    | 35.0     |  2 54     |\n",
      "|Muphrid       |HR 5235    | 64.5     |  3 23     |\n",
      "|Arcturus      |HR 5340    | 65.5     |  3 44     |\n",
      "|Izar          |HR 5506    | 73.5     |  4 13     |\n",
      "|Zubenelgenubi |HR 5531    | 30.0     |  4 19     |\n",
      "|Zubeneschamali|HR 5685    | 37.0     |  4 45     |\n",
      "|Alphecca      |HR 5793    | 73.0     |  5  3     |\n",
      "|Unukalhai     |HR 5854    | 52.5     |  5 12     |\n",
      "|Dschubba      |HR 5953    | 23.5     |  5 29     |\n",
      "|Acrab         |HR 5984    | 26.5     |  5 34     |\n",
      "|Yed Prior     |HR 6056    | 42.5     |  5 42     |\n",
      "|Alniyat       |HR 6084    | 20.5     |  5 49     |\n",
      "|Kornephoros   |HR 6148    | 68.0     |  5 58     |\n",
      "|Pollux        |HR 2990    | 74.5     | 21 11     |\n",
      "|Tureis        |HR 3185    | 22.0     | 21 33     |\n",
      "|Alphard       |HR 3748    | 37.5     | 22 53     |\n",
      "|Regulus       |HR 3982    | 58.0     | 23 34     |\n",
      "|Algieba       |HR 4057    | 66.0     | 23 45     |\n",
      "+--------------+-----------+----------+-----------+\n"
     ]
    }
   ],
   "source": [
    "fmt_today (location_home 0) iau_today 0"
   ]
  },
  {
   "cell_type": "code",
   "execution_count": 9,
   "id": "c621f3b5",
   "metadata": {},
   "outputs": [
    {
     "name": "stdout",
     "output_type": "stream",
     "text": [
      "+----------------------------+\n",
      "|  Home - Meridian Location  |\n",
      "|             7 37 Sunrise   |\n",
      "|            20  7 Sunset    |\n",
      "|                3 Mag-Lim   |\n",
      "|               20 Above-Horz|\n",
      "|               60 Dusk-Min  |\n",
      "|       2460030.75 Julian    |\n",
      "|73.40741357812496 ΔT        |\n",
      "|      _116.375956 Longitude |\n",
      "|        43.646775 Latitude  |\n",
      "|             2023 Year      |\n",
      "|                3 Month     |\n",
      "|            27.25 Day.dd    |\n",
      "|                6 UTCz      |\n",
      "+----------------------------+\n",
      "+-------------+-----------+----------+-----------+\n",
      "|Name         |Designation|Tr-Alt-Deg|Tr-24-HrMin|\n",
      "+-------------+-----------+----------+-----------+\n",
      "|Denebola     |HR 4534    | 61.0     |  1 18     |\n",
      "|Gienah       |HR 4662    | 28.5     |  1 45     |\n",
      "|Spica        |HR 5056    | 35.0     |  2 54     |\n",
      "|Arcturus     |HR 5340    | 65.5     |  3 44     |\n",
      "|Zubenelgenubi|HR 5531    | 30.0     |  4 19     |\n",
      "|Alphecca     |HR 5793    | 73.0     |  5  3     |\n",
      "|Pollux       |HR 2990    | 74.5     | 21 11     |\n",
      "|Alphard      |HR 3748    | 37.5     | 22 53     |\n",
      "|Regulus      |HR 3982    | 58.0     | 23 34     |\n",
      "+-------------+-----------+----------+-----------+\n"
     ]
    }
   ],
   "source": [
    "fmt_today (location_home 0) nav_today 0"
   ]
  },
  {
   "cell_type": "markdown",
   "id": "2fb93e08",
   "metadata": {},
   "source": [
    "The stars listed by `riseset` come from IAU named stars. "
   ]
  },
  {
   "cell_type": "code",
   "execution_count": 10,
   "id": "5116b235",
   "metadata": {},
   "outputs": [
    {
     "name": "stdout",
     "output_type": "stream",
     "text": [
      "﻿IAU_Name,Designation,HIP,Bayer_Name,Nm,WDS_J,Vmag,RA_J2000,Dec_J2000,Origin,Source,ID,Const,Etymology_Note\n",
      "Absolutno,XO-5,XO-5,_ Lyn,_,_,12.13,116.716506,39.094572,2019 IAU100 NameExoWorlds,https://www.nameexoworlds.iau.org/2019approved-names,_,Lyn,Czech Republic proposal;Absolutno is a fictional miraculous substance in the sci-fi novel Továrna na absolutno (T...\n",
      "Acamar,HR 897,13847,θ1 Eri,A,02583-4018,2.88,44.565311,-40.304672,,,θ1,Eri,\n",
      "Achernar,HR 472,7588,α Eri,A,-,0.45,24.428523,-57.236753,Arabic,,α,Eri,The name was originally Arabic: آخر النهر ʾāẖir an-nahr ('river's end').\n",
      "Achird,HR 219,3821,η Cas,A,00491+5749,3.46,12.276213,57.815187,,,η,Cas,\"first applied to η Cassiopeiae in the Skalnate Pleso\n"
     ]
    }
   ],
   "source": [
    "NB. leading characters from UTF-8 CSV IAU star data file\n",
    "800 {. read jpath '~addons/jacks/testdata/iau_named_stars_2022.txt'"
   ]
  },
  {
   "cell_type": "code",
   "execution_count": 11,
   "id": "587493a5",
   "metadata": {},
   "outputs": [
    {
     "name": "stdout",
     "output_type": "stream",
     "text": [
      "Named stars:449\n",
      "+---------+------+--------+------+-----+-----+-------+--------+------+-----+\n",
      "|Absolutno|Acamar|Achernar|Achird|Acrab|Acrux|Acubens|Adhafera|Adhara|Adhil|\n",
      "+---------+------+--------+------+-----+-----+-------+--------+------+-----+\n"
     ]
    }
   ],
   "source": [
    "loadstars~ 2\n",
    "smoutput 'Named stars:', \":#IAU_Name\n",
    "smoutput 10 {. IAU_Name"
   ]
  },
  {
   "cell_type": "markdown",
   "id": "8c0d8365",
   "metadata": {},
   "source": [
    "Additional stars/objects can be added by editing the IAU file or by\n",
    "doing the following. \n",
    "\n",
    "New objects need a name, right acension (RA), and declination (Dec)\n",
    "for the J2000.0 epoch. "
   ]
  },
  {
   "cell_type": "code",
   "execution_count": 12,
   "id": "e7d0818c",
   "metadata": {},
   "outputs": [
    {
     "name": "stdout",
     "output_type": "stream",
     "text": [
      "2447240.5 56 _71.08329999999999 42.3333 1988 3 20 0\n",
      "+-----+-+----------------------------+\n",
      "|Venus|0|  1 0.5211284270665463 12 30|\n",
      "|     | | 66 0.8169433896164773 19 36|\n",
      "|     | |0.5 0.1154978057116963  2 46|\n",
      "+-----+-+----------------------------+\n"
     ]
    }
   ],
   "source": [
    "NB. meeus pg. 99,100\n",
    "LB=: _71.0833 42.3333  NB. Boston\n",
    "YMD=: 1988 3 20\n",
    "UO=: 0\n",
    "NB. add objects not in IAU names - needs - name, ra, dec\n",
    "AOB=. (<;:'Venus'),(<41.73129),<18.44092\n",
    "AOB=. ,&.> (;:'OBJ_Name OBJ_RA_J2000 OBJ_Dec_J2000') ,. AOB\n",
    "DeltaTsOveride_riseset_=: 56\n",
    "'Vrs cParms'=: (YMD;UO;LB;<AOB) riseset 'Venus'\n",
    "0 0$erase 'DeltaTsOveride_riseset_'\n",
    "smoutput cParms\n",
    "smoutput Vrs"
   ]
  },
  {
   "cell_type": "markdown",
   "id": "30a2d9ea",
   "metadata": {},
   "source": [
    "## Maintaining and modifying `riseset`\n",
    "\n",
    "All `riseset` code, documentation and test scripts are stored in the JOD dictionary `futs`. To change\n",
    "the code or run the test cases you need to install the JOD dictionaries `futs` and `utils`. \n",
    "\n",
    "Use J's package manager to install the JOD addons `general/jod`, `general/joddocument`. If you\n",
    "have installed all the addons JOD is already on your system.\n",
    "\n",
    "After installing JOD do:\n",
    "\n",
    "1. Download the JOD dump scripts:\n",
    "\n",
    "   [https://github.com/bakerjd99/joddumps/blob/master/utils.ijs](https://github.com/bakerjd99/joddumps/blob/master/utils.ijs)\n",
    "   \n",
    "   [https://github.com/bakerjd99/joddumps/blob/master/futs.ijs](https://github.com/bakerjd99/joddumps/blob/master/futs.ijs)\n",
    "   \n",
    "   and put them in a `~temp` folder.\n",
    "   \n",
    "   \n",
    "2. Start JOD and check for the presence of `futs` and `utils`.\n",
    "\n",
    "~~~J\n",
    "NB. start JOD\n",
    "load 'general/jod'\n",
    "(;:'futs utils') e. od''\n",
    "~~~\n",
    "   \n",
    "3. **Only if both dictionaries are missing do:**\n",
    "\n",
    "~~~J\n",
    "newd 'utils'  NB. creates utils dictionary in '~user/joddicts/utils'\n",
    "newd 'futs'   NB. creates futs in '~user/joddicts/futs'\n",
    "~~~\n",
    "\n",
    "4. Load the dictionares:\n",
    "\n",
    "~~~J\n",
    "NB. load utils first\n",
    "od 'utils' [ 3 od ''\n",
    "0!:0 <jpath '~temp/utils.ijs'\n",
    "NB. rebuild references\n",
    "0 globs&> }. revo ''\n",
    "NB. take first binary backup\n",
    "packd 'utils'\n",
    "\n",
    "NB. load futs with utils on path\n",
    "od ;:'futs utils' [ 3 od ''\n",
    "0!:0 <jpath '~temp/futs.ijs'\n",
    "NB. rebuild references\n",
    "0 globs&> }. revo ''\n",
    "NB. take first binary backup\n",
    "packd 'futs'\n",
    "\n",
    "NB. close dictionaries\n",
    "3 od ''\n",
    "~~~"
   ]
  },
  {
   "cell_type": "markdown",
   "id": "e628f5ba",
   "metadata": {},
   "source": [
    "The rest of this notebook *assumes* you have installed `futs` and `utils`. \n",
    "\n",
    "It also assumes a basic knowledge of JOD. See the JOD Manual for details.\n",
    "The JOD Manual is distributed in the `general/joddocument` addon - see:\n",
    "\n",
    "     ~addons/general/joddocument/pdfdoc/jod.pdf\n",
    "     \n",
    "`jod.pdf` is also available on [The JOD Page](https://analyzethedatanotthedrivel.org/the-jod-page/)"
   ]
  },
  {
   "cell_type": "markdown",
   "id": "f1cf3efb",
   "metadata": {},
   "source": [
    "## `riseset` test suite\n",
    "\n",
    "Many `riseset` test cases are in `futs`. Groups of test cases are called \n",
    "suites. The contents of the `riseset` suite is:"
   ]
  },
  {
   "cell_type": "code",
   "execution_count": 13,
   "id": "8568aad6",
   "metadata": {},
   "outputs": [
    {
     "name": "stdout",
     "output_type": "stream",
     "text": [
      "+-+-----------------+----+-----+\n",
      "|1|opened (rw/ro) ->|futs|utils|\n",
      "+-+-----------------+----+-----+\n"
     ]
    }
   ],
   "source": [
    "NB. open futs and utils - assumed open until notebook end\n",
    "load 'general/jod'\n",
    "od ;:'futs utils' [ 3 od ''"
   ]
  },
  {
   "cell_type": "code",
   "execution_count": 14,
   "id": "a8c78a34",
   "metadata": {},
   "outputs": [
    {
     "name": "stdout",
     "output_type": "stream",
     "text": [
      "+-----------------------------+\n",
      "|riseset_atan2_smoke          |\n",
      "+-----------------------------+\n",
      "|riseset_espenak_smoke        |\n",
      "+-----------------------------+\n",
      "|riseset_meeus_smoke          |\n",
      "+-----------------------------+\n",
      "|riseset_navstars_ecu_smoke   |\n",
      "+-----------------------------+\n",
      "|riseset_navstars_safari_smoke|\n",
      "+-----------------------------+\n",
      "|riseset_riseset_smoke        |\n",
      "+-----------------------------+\n",
      "|riseset_tanner_smoke         |\n",
      "+-----------------------------+\n"
     ]
    }
   ],
   "source": [
    "NB. list test cases in (riseset) suite\n",
    "smoutput ,. }. 3 grp 'riseset'"
   ]
  },
  {
   "cell_type": "code",
   "execution_count": 15,
   "id": "6b1c336d",
   "metadata": {},
   "outputs": [
    {
     "name": "stdout",
     "output_type": "stream",
     "text": [
      "NB.*riseset_riseset_smoke t-- (riseset) smoke tests.\n",
      "NB.\n",
      "NB. created: 2023mar27\n",
      "NB. changes: -----------------------------------------------------\n",
      "NB. 23apr01 location name added\n",
      "NB. 23apr23 adjust for sunrise/set filtering\n",
      "NB. 23apr27 adjust for sunrise/set \n",
      "\n",
      "load 'riseset'\n",
      "\n",
      "NB. meeus pg. 99,100\n",
      "LB=: _71.0833 42.3333  NB. Boston\n",
      "YMD=: 1988 3 20\n",
      "UO=: 0\n",
      "NB. add objects not in IAU names - needs - name, ra, dec\n",
      "AOB=. (<;:'Venus'),(<41.73129),<18.44092\n",
      "AOB=. ,&.> (;:'OBJ_Name OBJ_RA_J2000 OBJ_Dec_J2000') ,. AOB\n",
      "DeltaTsOveride_riseset_=: 56\n",
      "'Vrs cParms'=: (YMD;UO;LB;<AOB) riseset 'Venus'\n",
      "0 0$erase 'DeltaTsOveride_riseset_'\n",
      "\n",
      "NB. values are within 10 minutes of the meeus book \n",
      "NB. result - not great but good enough for demo work\n",
      "Meeusmin=:  +/\" 1 ] 60 1 *\"1 ] 12 25 , 19 41 ,: 2 55\n",
      "10 > >./|Meeusmin - +/\" 1 ] 60 1 *\"1 ] _2 {.\"1 ;2 {\"1 Vrs \n",
      "\n",
      "LB=:  _116.375956 43.646775   NB. Meridian \n",
      "YMD=: 2023 3 27\n",
      "UO=:  6                       NB. MST UTC offset\n",
      "\n",
      "'Rs cParms'=: (YMD;UO;LB) riseset 'Algol' \n",
      "'Rs cParms'=: (YMD;UO;LB) riseset 'Algol';'Rigel';'Spica'\n",
      "\n",
      "NB. Bright Stars for 2023 3 27 Meridian\n",
      "NB. https://www.almanac.com/astronomy/bright-stars/zipcode/83646/2023-03-27\n",
      "Bs=: ;:'Altair Deneb Fomalhaut Algol Aldebaran Rigel Capella Bellatrix'\n",
      "Bs=: Bs,;:'Betelgeuse Sirius Procyon Pollux Regulus Spica Arcturus Antares Vega' \n",
      "\n",
      "'Rs cParms'=: (YMD;UO;LB) riseset Bs\n",
      "\n",
      "NB. transits match fairly well rise/sets differ 5 to 10 minutes\n",
      "BsTransit=: 9 18,10 8,12 25,16 35,18 2,18 41,18 43,:18 51\n",
      "BsTransit=: BsTransit , 19 21,20 11,21 5,21 11,23 34,2 54,3 44,5 58,:8 4\n",
      "\n",
      "NB. transit altitude degrees\n",
      "BsAlt=: 55 88 16 87 62 38 87 52\n",
      "BsAlt=: BsAlt,53 29 51 74 58 35 65 19 85\n",
      "\n",
      "TMP=: {:\"1 Rs\n",
      "ALT=: ((<1;,0)&{&> TMP) ,. BsAlt \n",
      "TRT=: ((<1;2 3)&{&> TMP) ,. BsTransit\n",
      "\n",
      "NB. altitudes match to 1 degree\n",
      "1 = >./ -/\"1 ALT\n",
      "\n",
      "NB. transit times match to 1 minute in worst case\n",
      "1 = >./ | (60 #:^:_1 ] 0 1 {\"1 TRT) - 60 #:^:_1 ] 2 3 {\"1 TRT\n",
      "\n",
      "'IAU NAV'=: loadstars 0\n",
      "({.\"1 NAV)=: {:\"1 NAV\n",
      "({.\"1 IAU)=: {:\"1 IAU\n",
      "'Navrs cParms'=: (YMD;UO;LB) riseset Nav_Star_Name\n",
      "'Iaurs cParms'=: (YMD;UO;LB) riseset IAU_Name\n",
      "\n",
      "NB. default \n",
      "'Meridianrs lName sRs cParms'=: iau_today 0\n",
      "\n",
      "NB. date of Uluru star party diner\n",
      "uJD=: julfrcal uYMD=: 2022 10 19\n",
      "ULURU=: 131.01941 _25.34301\n",
      "uUTC=: _9.5 \n",
      "uLMAG=: 6.0\n",
      "uLHORZ=: 5\n",
      "uNAME=: 'Uluru - star party diner'\n",
      "uDark=: 0\n",
      "'Ulururs lName sRs cParms'=: (uYMD;uJD;ULURU;uUTC;uLMAG;uLHORZ;uNAME;uDark) iau_today 0\n",
      "'Ulururs lName sRs cParms'=: (uYMD;uJD;ULURU;uUTC;uLMAG;uLHORZ;uNAME;uDark) nav_today 0\n",
      "\n",
      "'Navrs lName sRs cParms'=:(location_yellowstone~ 1933 9 25.75) iau_today 0\n",
      "'Navrs lName sRs cParms'=:(location_home~ 1956 7 18) nav_today 0\n",
      "'Navrs lName sRs cParms'=:(location_uluru~ 2043 7 2) nav_today 0\n",
      "\n",
      "0 0$erase 'AOB Meeusmin Vrs LB YMD UO Rs Bs BsTransit BsAlt TMP ALT TRT Navrs Iaurs cParms'\n",
      "0 0$erase (;:'IAU NAV') , ({.\"1 NAV), {.\"1 IAU\n",
      "0 0$erase 'uYMD uJD ULURU uUTC uLMAG uLHORZ Meridianrs Ulururs uDark uNAME lName sRs'\n",
      "\n",
      "smoutput 'PASSED:: riseset_riseset_smoke'\n"
     ]
    }
   ],
   "source": [
    "NB. show test case\n",
    "1 disp 'riseset_riseset_smoke'"
   ]
  },
  {
   "cell_type": "code",
   "execution_count": 16,
   "id": "377e8646",
   "metadata": {},
   "outputs": [
    {
     "name": "stdout",
     "output_type": "stream",
     "text": [
      "NB. (riseset) interface word(s): 20230516j123457\n",
      "NB. ----------------------------\n",
      "NB. baby_today  NB. named Babylonian stars rising/setting today\n",
      "NB. fmt_today   NB. format today verbs result\n",
      "NB. iau_today   NB. named IAU stars rising/setting today\n",
      "NB. loadstars   NB. loads riseset star data\n",
      "NB. nav_today   NB. named navigation stars rising/setting today\n",
      "NB. navdaylist  NB. sky safari 6_0 observing list of today's navigation stars\n",
      "NB. riseset     NB. rise, transit, set times of stars\n",
      "\n",
      "    fmt_today nav_today location_home 0\n",
      "\n",
      "PASSED:: riseset_atan2_smoke\n",
      "NB. (riseset) interface word(s): 20230516j123457\n",
      "NB. ----------------------------\n",
      "NB. baby_today  NB. named Babylonian stars rising/setting today\n",
      "NB. fmt_today   NB. format today verbs result\n",
      "NB. iau_today   NB. named IAU stars rising/setting today\n",
      "NB. loadstars   NB. loads riseset star data\n",
      "NB. nav_today   NB. named navigation stars rising/setting today\n",
      "NB. navdaylist  NB. sky safari 6_0 observing list of today's navigation stars\n",
      "NB. riseset     NB. rise, transit, set times of stars\n",
      "\n",
      "    fmt_today nav_today location_home 0\n",
      "\n",
      "PASSED:: riseset_espenak_smoke\n",
      "NB. (riseset) interface word(s): 20230516j123457\n",
      "NB. ----------------------------\n",
      "NB. baby_today  NB. named Babylonian stars rising/setting today\n",
      "NB. fmt_today   NB. format today verbs result\n",
      "NB. iau_today   NB. named IAU stars rising/setting today\n",
      "NB. loadstars   NB. loads riseset star data\n",
      "NB. nav_today   NB. named navigation stars rising/setting today\n",
      "NB. navdaylist  NB. sky safari 6_0 observing list of today's navigation stars\n",
      "NB. riseset     NB. rise, transit, set times of stars\n",
      "\n",
      "    fmt_today nav_today location_home 0\n",
      "\n",
      "PASSED:: riseset_meeus_smoke\n",
      "NB. (riseset) interface word(s): 20230516j123457\n",
      "NB. ----------------------------\n",
      "NB. baby_today  NB. named Babylonian stars rising/setting today\n",
      "NB. fmt_today   NB. format today verbs result\n",
      "NB. iau_today   NB. named IAU stars rising/setting today\n",
      "NB. loadstars   NB. loads riseset star data\n",
      "NB. nav_today   NB. named navigation stars rising/setting today\n",
      "NB. navdaylist  NB. sky safari 6_0 observing list of today's navigation stars\n",
      "NB. riseset     NB. rise, transit, set times of stars\n",
      "\n",
      "    fmt_today nav_today location_home 0\n",
      "\n",
      "ECU riseset ALL/NORTH/SOUTH HrMin freq/stats ======\n",
      "raw mean: _0.2796934865900383\n",
      "distribution absolute minute diffs\n",
      " 0  1  2  3  4 5 6 7\n",
      "10 75 69 65 27 7 6 2\n",
      "stats absolute minute diffs\n",
      "sample size:        261\n",
      "minimum:              0\n",
      "maximum:              7\n",
      "1st quartile:         1\n",
      "2nd quartile:         2\n",
      "3rd quartile:         3\n",
      "first mode:           1\n",
      "first antimode:       7\n",
      "mean:            2.3027\n",
      "std devn:        1.3489\n",
      "skewness:        0.8041\n",
      "kurtosis:        3.7348\n",
      "PASSED:: riseset_navstars_ecu_smoke\n",
      "NB. (riseset) interface word(s): 20230516j123457\n",
      "NB. ----------------------------\n",
      "NB. baby_today  NB. named Babylonian stars rising/setting today\n",
      "NB. fmt_today   NB. format today verbs result\n",
      "NB. iau_today   NB. named IAU stars rising/setting today\n",
      "NB. loadstars   NB. loads riseset star data\n",
      "NB. nav_today   NB. named navigation stars rising/setting today\n",
      "NB. navdaylist  NB. sky safari 6_0 observing list of today's navigation stars\n",
      "NB. riseset     NB. rise, transit, set times of stars\n",
      "\n",
      "    fmt_today nav_today location_home 0\n",
      "\n",
      "SKY riseset ALL/NORTH/SOUTH HrMin freq/stats ======\n",
      "raw hrmin mean: _0.02040816326530612\n",
      "distribution absolute minute diffs\n",
      " 0 1\n",
      "48 1\n",
      "stats absolute minute diffs\n",
      "sample size:          49\n",
      "minimum:               0\n",
      "maximum:               1\n",
      "1st quartile:          _\n",
      "2nd quartile:          0\n",
      "3rd quartile:          1\n",
      "first mode:            0\n",
      "first antimode:        1\n",
      "mean:             0.0204\n",
      "std devn:         0.1429\n",
      "skewness:         6.7839\n",
      "kurtosis:        47.0208\n",
      "SKY riseset ALL/NORTH/SOUTH Altitude freq/stats ======\n",
      "raw hrmin mean: 0.01224489795918367\n",
      "distribution absolute altitude diffs\n",
      "0 0.1 0.2\n",
      "7  24  18\n",
      "stats absolute altitude diffs\n",
      "sample size:                      49\n",
      "minimum:                           0\n",
      "maximum:                         0.2\n",
      "1st quartile:                      0\n",
      "2nd quartile:                    0.1\n",
      "3rd quartile:                    0.2\n",
      "first mode:                      0.1\n",
      "first antimode:                    0\n",
      "mean:                         0.1224\n",
      "std devn:        0.06850000000000001\n",
      "skewness:                    _0.3095\n",
      "kurtosis:                     2.1534\n",
      "PASSED:: riseset_navstars_safari_smoke\n",
      "NB. (riseset) interface word(s): 20230516j123457\n",
      "NB. ----------------------------\n",
      "NB. baby_today  NB. named Babylonian stars rising/setting today\n",
      "NB. fmt_today   NB. format today verbs result\n",
      "NB. iau_today   NB. named IAU stars rising/setting today\n",
      "NB. loadstars   NB. loads riseset star data\n",
      "NB. nav_today   NB. named navigation stars rising/setting today\n",
      "NB. navdaylist  NB. sky safari 6_0 observing list of today's navigation stars\n",
      "NB. riseset     NB. rise, transit, set times of stars\n",
      "\n",
      "    fmt_today nav_today location_home 0\n",
      "\n",
      "PASSED:: riseset_riseset_smoke\n",
      "NB. (riseset) interface word(s): 20230516j123457\n",
      "NB. ----------------------------\n",
      "NB. baby_today  NB. named Babylonian stars rising/setting today\n",
      "NB. fmt_today   NB. format today verbs result\n",
      "NB. iau_today   NB. named IAU stars rising/setting today\n",
      "NB. loadstars   NB. loads riseset star data\n",
      "NB. nav_today   NB. named navigation stars rising/setting today\n",
      "NB. navdaylist  NB. sky safari 6_0 observing list of today's navigation stars\n",
      "NB. riseset     NB. rise, transit, set times of stars\n",
      "\n",
      "    fmt_today nav_today location_home 0\n",
      "\n",
      "PASSED:: riseset_tanner_smoke\n",
      "1\n"
     ]
    }
   ],
   "source": [
    "NB. run all the test cases in the suite \n",
    "NB. suppressing all but (smoutput) output\n",
    "NB. Each test will show PASSED:: if OK.\n",
    "4 rtt 'riseset'"
   ]
  },
  {
   "cell_type": "markdown",
   "id": "4c05bfff",
   "metadata": {},
   "source": [
    "## Building `riseset`\n",
    "\n",
    "There are a number of test scripts in `futs` that build and distribute `riseset`.\n",
    "These scripts are tuned to my environment but they do illustrate how to\n",
    "*make* a distribution script."
   ]
  },
  {
   "cell_type": "code",
   "execution_count": 17,
   "id": "f38922dc",
   "metadata": {},
   "outputs": [
    {
     "name": "stdout",
     "output_type": "stream",
     "text": [
      "NB.*build_riseset t-- build (riseset) and distribute.\n",
      "NB.\n",
      "NB. created: 2023mar09\n",
      "NB. changes: -----------------------------------------------------\n",
      "NB. 23may10 add notebook to distributed files\n",
      "\n",
      "coclass tmploc_AAAbuild999_=: 'AAAbuild999' [ coerase <'AAAbuild999'\n",
      "coinsert 'ijod'\n",
      "\n",
      "scrn=: 'riseset'\n",
      "\n",
      ">0{OPENDIC=: did 0  \n",
      "\n",
      "NB. if (imex) is first dictionary on path include it\n",
      "headdic=: ('imex'-:>1{OPENDIC)#'imex '\n",
      "\n",
      ">0{od ;: headdic,'futs utils' [ 3 od ''\n",
      "\n",
      ">0{tmploc get ;:'gettxt get\n",
      "+-+---------+----+-----+\n",
      "|1|closed ->|futs|utils|\n",
      "+-+---------+----+-----+\n"
     ]
    }
   ],
   "source": [
    "NB. show main riseset maker\n",
    "portchars 0\n",
    "NB. leading characters\n",
    "smoutput 500 {. 1 disp 'build_riseset'\n",
    "3 od ''"
   ]
  },
  {
   "cell_type": "markdown",
   "id": "525c1a4a",
   "metadata": {},
   "source": [
    "## All done - thanks for playing"
   ]
  }
 ],
 "metadata": {
  "kernelspec": {
   "display_name": "J",
   "language": "J",
   "name": "jkernel"
  },
  "language_info": {
   "file_extension": ".ijs",
   "mimetype": "text/J",
   "name": "J"
  }
 },
 "nbformat": 4,
 "nbformat_minor": 5
}
