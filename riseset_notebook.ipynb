{
 "cells": [
  {
   "cell_type": "markdown",
   "id": "5f20d7b4",
   "metadata": {},
   "source": [
    "# `riseset` Examples\n",
    "\n",
    "This notebook demonstrates the J `riseset` script.  `riseset` computes the rise, transit, and set times of named [IAU Stars](https://www.iau.org/).\n",
    "\n",
    "To run this notebook you must install a J jupyter kernel. See Martin repository for instructions."
   ]
  },
  {
   "cell_type": "code",
   "execution_count": 7,
   "id": "4f851209",
   "metadata": {},
   "outputs": [
    {
     "name": "stdout",
     "output_type": "stream",
     "text": [
      "j9.4.1/j64avx512/windows/commercial/www.jsoftware.com/2023-02-27T15:21:53/clang-15-0-7/SLEEF=1\n",
      "2023 3 28 22 50 24.29\n"
     ]
    }
   ],
   "source": [
    "NB. J version and date\n",
    "smoutput 9!:14 ''\n",
    "smoutput 6!:0 ''"
   ]
  },
  {
   "cell_type": "markdown",
   "id": "33b438e6",
   "metadata": {},
   "source": [
    "## Installation \n",
    "\n",
    "`riseset` is distributed as a J addon. It is installed in the J `~addons/jacks` folder. It can be installed from [GitHub](https://github.com/bakerjd99/jackshacks) with:"
   ]
  },
  {
   "cell_type": "code",
   "execution_count": 5,
   "id": "1e11749c",
   "metadata": {},
   "outputs": [
    {
     "name": "stdout",
     "output_type": "stream",
     "text": [
      "installed: bakerjd99/jackshacks master into folder: jacks\n"
     ]
    }
   ],
   "source": [
    "load 'pacman'\n",
    "smoutput install 'github:bakerjd99/jackshacks'"
   ]
  },
  {
   "cell_type": "markdown",
   "id": "b5a59388",
   "metadata": {},
   "source": [
    "The `jacks` (J-hacks) addons are self contained  [JOD generated](https://analyzethedatanotthedrivel.org/the-jod-page/) J scripts. Each `ijs` script is accompanied with `pdf` document that describes how to use it. Some scripts, like `riseset` are also packaged with a Jupyter notebook (this file) and a `pdf` version of the notebook. For example, the `riseset` files are:\n",
    "\n",
    "     riseset.ijs\n",
    "     riseset.pdf\n",
    "     riseset_notebook.ipynb\n",
    "     riseset_notebook.pdf\n",
    "\n",
    "The are other scripts in `~addons/jacks` and more will be added from time to time. To refresh the folder, reissue the install command.\n",
    "\n",
    "In addition to these files the subfolder `~addons/jacks/testdata` contains data files. `riseset` files in `testdata` are:\n",
    "\n",
    "     Bright_Stars_Meridian_Almanac_23mar27.md\n",
    "     iau_named_stars_2022.txt\n",
    "     Navigation_Stars.txt\n",
    "     "
   ]
  },
  {
   "cell_type": "code",
   "execution_count": 3,
   "id": "fdd3160f",
   "metadata": {},
   "outputs": [
    {
     "name": "stdout",
     "output_type": "stream",
     "text": [
      "NB. (riseset) interface word(s): 20230328j184103\n",
      "NB. ----------------------------\n",
      "NB. iau_tonight  NB. named IAU stars visible tonight\n",
      "NB. loadstars    NB. loads riseset star data\n",
      "NB. riseset      NB. rise, transit, set times of stars\n",
      "\n"
     ]
    }
   ],
   "source": [
    "NB. load riseset \n",
    "load '~addons/jacks/riseset.ijs'"
   ]
  },
  {
   "cell_type": "code",
   "execution_count": null,
   "id": "f2ee0667",
   "metadata": {},
   "outputs": [],
   "source": []
  }
 ],
 "metadata": {
  "kernelspec": {
   "display_name": "J",
   "language": "J",
   "name": "jkernel"
  },
  "language_info": {
   "file_extension": ".ijs",
   "mimetype": "text/J",
   "name": "J"
  }
 },
 "nbformat": 4,
 "nbformat_minor": 5
}
