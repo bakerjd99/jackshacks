{
 "cells": [
  {
   "cell_type": "markdown",
   "id": "5f20d7b4",
   "metadata": {},
   "source": [
    "# `riseset` Examples\n",
    "\n",
    "This notebook demonstrates the J `riseset` script.  `riseset` computes the rise, transit, and set times of named [IAU Stars](https://www.iau.org/).\n",
    "\n",
    "To run this notebook you must install a J jupyter kernel. See Martin Saurer's [GitHub repository](https://github.com/martin-saurer/jkernel) for instructions."
   ]
  },
  {
   "cell_type": "code",
   "execution_count": 1,
   "id": "4f851209",
   "metadata": {},
   "outputs": [
    {
     "name": "stdout",
     "output_type": "stream",
     "text": [
      "\n",
      "j9.4.1/j64avx512/windows/commercial/www.jsoftware.com/2023-02-27T15:21:53/clang-15-0-7/SLEEF=1\n",
      "2023 3 29 22 20 41.553\n",
      "\n"
     ]
    }
   ],
   "source": [
    "NB. J version and date\n",
    "smoutput 9!:14 ''\n",
    "smoutput 6!:0 ''\n",
    "\n",
    "NB. set portable box drawing characters\n",
    "portchars=:[: 9!:7 '+++++++++|-'\"_ [ ]\n",
    "portchars 0"
   ]
  },
  {
   "cell_type": "markdown",
   "id": "33b438e6",
   "metadata": {},
   "source": [
    "## Installation \n",
    "\n",
    "`riseset` is distributed as a J addon. It is installed in the J `~addons/jacks` folder. It can be installed from [GitHub](https://github.com/bakerjd99/jackshacks) with:"
   ]
  },
  {
   "cell_type": "code",
   "execution_count": 2,
   "id": "1e11749c",
   "metadata": {},
   "outputs": [],
   "source": [
    "load 'pacman'\n",
    "NB. smoutput install 'github:bakerjd99/jackshacks' NB. uncomment  "
   ]
  },
  {
   "cell_type": "markdown",
   "id": "b5a59388",
   "metadata": {},
   "source": [
    "The `jacks` (J-hacks) addons are self contained  [JOD generated](https://analyzethedatanotthedrivel.org/the-jod-page/) J scripts. Each `ijs` script is accompanied with `pdf` document that describes how to use it. Some scripts, like `riseset` are also packaged with a Jupyter notebook (this file) and a `pdf` version of the notebook. For example, the `riseset` files are:\n",
    "\n",
    "     riseset.ijs\n",
    "     riseset.pdf\n",
    "     riseset_notebook.ipynb\n",
    "     riseset_notebook.pdf\n",
    "\n",
    "There are other scripts in `~addons/jacks` and more will be added from time to time. To refresh the folder, reissue the install command.\n",
    "\n",
    "In addition to these files the subfolder `~addons/jacks/testdata` contains data files. `riseset` files in `testdata` are:\n",
    "\n",
    "     Bright_Stars_Meridian_Almanac_23mar27.md\n",
    "     iau_named_stars_2022.txt\n",
    "     Navigation_Stars.txt\n",
    "     "
   ]
  },
  {
   "cell_type": "code",
   "execution_count": 3,
   "id": "9649575d",
   "metadata": {},
   "outputs": [
    {
     "name": "stdout",
     "output_type": "stream",
     "text": [
      "testdata                 <dir>     28-Mar-23 22:45:21\n",
      "brandxmp.ijs                 13295 28-Mar-23 22:45:21\n",
      "brandxmp.pdf                125252 28-Mar-23 22:45:21\n",
      "gpxutils.ijs                 17079 28-Mar-23 22:45:21\n",
      "gpxutils.pdf                134365 28-Mar-23 22:45:21\n",
      "ipynb.ijs                     4699 28-Mar-23 22:45:21\n",
      "ipynb.pdf                    86966 28-Mar-23 22:45:21\n",
      "manifest.ijs                  1214 29-Mar-23 13:18:17\n",
      "riseset.ijs                  34195 29-Mar-23 13:49:12\n",
      "riseset.pdf                 174094 29-Mar-23 13:18:17\n",
      "riseset_notebook.ipynb        6671 29-Mar-23 13:52:41\n",
      "riseset_notebook.pdf         35069 29-Mar-23 13:52:19\n"
     ]
    }
   ],
   "source": [
    "NB. addon files\n",
    "dir '~addons/jacks'"
   ]
  },
  {
   "cell_type": "markdown",
   "id": "7ab81175",
   "metadata": {},
   "source": [
    "## Using `riseset`"
   ]
  },
  {
   "cell_type": "code",
   "execution_count": 4,
   "id": "fdd3160f",
   "metadata": {},
   "outputs": [
    {
     "name": "stdout",
     "output_type": "stream",
     "text": [
      "NB. (riseset) interface word(s): 20230329j134912\n",
      "NB. ----------------------------\n",
      "NB. iau_today  NB. named IAU stars rising/setting today\n",
      "NB. loadstars  NB. loads riseset star data\n",
      "NB. riseset    NB. rise, transit, set times of stars\n",
      "\n",
      "NB. vmd: 0.8.5; 4; 29 Mar 2023 13:49:12\n"
     ]
    }
   ],
   "source": [
    "NB. load riseset \n",
    "load '~addons/jacks/riseset.ijs'\n",
    "\n",
    "NB. version\n",
    "smoutput 'NB. vmd: ' , ,'0,p<; >q<; >0,0' (8!:2) VMDriseset"
   ]
  },
  {
   "cell_type": "code",
   "execution_count": 5,
   "id": "f2ee0667",
   "metadata": {},
   "outputs": [
    {
     "name": "stdout",
     "output_type": "stream",
     "text": [
      "3 : 0\n",
      "\n",
      "NB.*location_yellowstone v-- set parameters for Old Faithful location.\n",
      "NB.\n",
      "NB. monad:  location_yellowstone uuIgnore\n",
      "NB.\n",
      "NB.   location_yellowstone 0  NB. set location\n",
      "NB.   iau_today 0             NB. uses set location with current date\n",
      "NB.\n",
      "NB.   NB. uses location with set date\n",
      "NB.   (location_yellowstone 0) iau_today 0\n",
      "\n",
      "ymd=. 2013 5 7  NB. mom\n",
      "\n",
      "NB. longitude, latitude with standard signs \n",
      "OBSLOCATION_riseset_=: _110.82792 44.46057\n",
      "\n",
      "UTCOFFSET_riseset_=: 6.0   NB. MST time zone\n",
      "LIMITMAG_riseset_=:  6.0   NB. stellar magnitude\n",
      "LIMITHORZ_riseset_=: 10    NB. degrees above horizon\n",
      "\n",
      "ymd;OBSLOCATION;UTCOFFSET;LIMITMAG;LIMITHORZ\n",
      ")\n"
     ]
    }
   ],
   "source": [
    "NB. set a location - add your own by cloning and modifying location verbs\n",
    "location_yellowstone"
   ]
  },
  {
   "cell_type": "code",
   "execution_count": 6,
   "id": "0f1899da",
   "metadata": {},
   "outputs": [
    {
     "name": "stdout",
     "output_type": "stream",
     "text": [
      "243\n",
      "+---------------+---------+\n",
      "|Chertan        |61 0 13  |\n",
      "+---------------+---------+\n",
      "|Zosma          |66 0 13  |\n",
      "+---------------+---------+\n",
      "|Alula Australis|77 0 17  |\n",
      "+---------------+---------+\n",
      "|Alula Borealis |78.5 0 17|\n",
      "+---------------+---------+\n",
      "|Denebola       |60 0 48  |\n",
      "+---------------+---------+\n"
     ]
    }
   ],
   "source": [
    "location_yellowstone 0\n",
    "\n",
    "NB. star name, transit altitude, transit time hours, minutes\n",
    "IAU=: iau_today 0\n",
    "smoutput #IAU\n",
    "smoutput 5 {. IAU"
   ]
  },
  {
   "cell_type": "markdown",
   "id": "4cac89d9",
   "metadata": {},
   "source": [
    "Detailed rise and set information is provided by `riseset`."
   ]
  },
  {
   "cell_type": "code",
   "execution_count": 7,
   "id": "4be8a002",
   "metadata": {},
   "outputs": [
    {
     "name": "stdout",
     "output_type": "stream",
     "text": [
      "+-----+-+------------------------------+\n",
      "|Algol|0| 0.5  0.2910386461449466  6 59|\n",
      "|     | |87.5  0.6908345293917257 16 35|\n",
      "|     | | 0.5 0.09337060171945516  2 14|\n",
      "+-----+-+------------------------------+\n",
      "|Rigel|0|  1   0.5527905462948185 13 16|\n",
      "|     | | 38   0.7780712498266437 18 40|\n",
      "|     | |0.5 0.006088476753742347  0  9|\n",
      "+-----+-+------------------------------+\n",
      "|Spica|0|  1  0.9012706582406574 21 38 |\n",
      "|     | | 35 _0.8793144933635634  2 54 |\n",
      "|     | |0.5  0.3373585646884121  8  6 |\n",
      "+-----+-+------------------------------+\n"
     ]
    }
   ],
   "source": [
    "LB=:  _116.375956 43.646775   NB. Meridian \n",
    "YMD=: 2023 3 27\n",
    "UO=:  6                       NB. MST UTC offset\n",
    "\n",
    "NB. star name, (0=rises/sets), altitudes, times fractional day, times hours, minutes\n",
    "smoutput Rs=: (YMD;UO;LB) riseset 'Algol';'Rigel';'Spica'"
   ]
  },
  {
   "cell_type": "markdown",
   "id": "2fb93e08",
   "metadata": {},
   "source": [
    "The stars listed by `riseset` come from IAU named stars. "
   ]
  },
  {
   "cell_type": "code",
   "execution_count": 8,
   "id": "5116b235",
   "metadata": {},
   "outputs": [
    {
     "name": "stdout",
     "output_type": "stream",
     "text": [
      "﻿IAU_Name,Designation,HIP,Bayer_Name,Nm,WDS_J,Vmag,RA_J2000,Dec_J2000,Origin,Source,ID,Const,Etymology_Note\n",
      "Absolutno,XO-5,XO-5,_ Lyn,_,_,12.13,116.716506,39.094572,2019 IAU100 NameExoWorlds,https://www.nameexoworlds.iau.org/2019approved-names,_,Lyn,Czech Republic proposal;Absolutno is a fictional miraculous substance in the sci-fi novel Továrna na absolutno (T...\n",
      "Acamar,HR 897,13847,θ1 Eri,A,02583-4018,2.88,44.565311,-40.304672,,,θ1,Eri,\n",
      "Achernar,HR 472,7588,α Eri,A,-,0.45,24.428523,-57.236753,Arabic,,α,Eri,The name was originally Arabic: آخر النهر ʾāẖir an-nahr ('river's end').\n",
      "Achird,HR 219,3821,η Cas,A,00491+5749,3.46,12.276213,57.815187,,,η,Cas,\"first applied to η Cassiopeiae in the Skalnate Pleso\n"
     ]
    }
   ],
   "source": [
    "NB. leading characters from UTF-8 CSV IAU star data file\n",
    "800 {. read jpath '~addons/jacks/testdata/iau_named_stars_2022.txt'"
   ]
  },
  {
   "cell_type": "code",
   "execution_count": 9,
   "id": "587493a5",
   "metadata": {},
   "outputs": [
    {
     "name": "stdout",
     "output_type": "stream",
     "text": [
      "Named stars:449\n",
      "+---------+------+--------+------+-----+-----+-------+--------+------+-----+\n",
      "|Absolutno|Acamar|Achernar|Achird|Acrab|Acrux|Acubens|Adhafera|Adhara|Adhil|\n",
      "+---------+------+--------+------+-----+-----+-------+--------+------+-----+\n"
     ]
    }
   ],
   "source": [
    "loadstars~ 2\n",
    "smoutput 'Named stars:', \":#IAU_Name\n",
    "smoutput 10 {. IAU_Name"
   ]
  },
  {
   "cell_type": "markdown",
   "id": "8c0d8365",
   "metadata": {},
   "source": [
    "Additional stars/objects can be added by editing the IAU file or by\n",
    "doing the following. \n",
    "\n",
    "New objects need a name, right acension (RA), and declination (Dec)\n",
    "for the J2000.0 epoch. "
   ]
  },
  {
   "cell_type": "code",
   "execution_count": 10,
   "id": "e7d0818c",
   "metadata": {},
   "outputs": [
    {
     "name": "stdout",
     "output_type": "stream",
     "text": [
      "+-----+-+----------------------------+\n",
      "|Venus|0|  1 0.5211284270665463 12 30|\n",
      "|     | | 66 0.8169433896164773 19 36|\n",
      "|     | |0.5 0.1154978057116963  2 46|\n",
      "+-----+-+----------------------------+\n"
     ]
    }
   ],
   "source": [
    "NB. meeus pg. 99,100\n",
    "LB=: _71.0833 42.3333  NB. Boston\n",
    "YMD=: 1988 3 20\n",
    "UO=: 0\n",
    "NB. add objects not in IAU names - needs - name, ra, dec\n",
    "AOB=. (<;:'Venus'),(<41.73129),<18.44092\n",
    "AOB=. ,&.> (;:'OBJ_Name OBJ_RA_J2000 OBJ_Dec_J2000') ,. AOB\n",
    "DeltaTsOveride_riseset_=: 56\n",
    "Vrs=: (YMD;UO;LB;<AOB) riseset 'Venus'\n",
    "0 0$erase 'DeltaTsOveride_riseset_'\n",
    "smoutput Vrs"
   ]
  },
  {
   "cell_type": "markdown",
   "id": "30a2d9ea",
   "metadata": {},
   "source": [
    "## Maintaining and modifying `riseset`\n",
    "\n",
    "All `riseset` code, documentation and test scripts are stored in the JOD dictionary `futs`. To change\n",
    "the code or run the test cases you need to install the JOD dictionaries `futs` and `utils`. \n",
    "\n",
    "Use J's package manager to install the JOD addons `general/jod`, `general/joddocument`. If you\n",
    "have installed all the addons JOD is already on your system.\n",
    "\n",
    "After installing JOD do:\n",
    "\n",
    "1. Download the JOD dump scripts:\n",
    "\n",
    "   [https://github.com/bakerjd99/joddumps/blob/master/utils.ijs](https://github.com/bakerjd99/joddumps/blob/master/utils.ijs)\n",
    "   \n",
    "   [https://github.com/bakerjd99/joddumps/blob/master/futs.ijs](https://github.com/bakerjd99/joddumps/blob/master/futs.ijs)\n",
    "   \n",
    "   and put them in a `~temp` folder.\n",
    "   \n",
    "   \n",
    "2. Start JOD and check for the presence of `futs` and `utils`.\n",
    "\n",
    "~~~J\n",
    "NB. start JOD\n",
    "load 'general/jod'\n",
    "(;:'futs utils') e. od''\n",
    "~~~\n",
    "   \n",
    "3. **Only if both dictionaries are missing do:**\n",
    "\n",
    "~~~J\n",
    "newd 'utils'  NB. creates utils dictionary in '~user/joddicts/utils'\n",
    "newd 'futs'   NB. creates futs in '~user/joddicts/futs'\n",
    "~~~\n",
    "\n",
    "4. Load the dictionares:\n",
    "\n",
    "~~~J\n",
    "NB. load utils first\n",
    "od 'utils' [ 3 od ''\n",
    "0!:0 <jpath '~temp/utils.ijs'\n",
    "NB. rebuild references\n",
    "0 globs&> }. revo ''\n",
    "NB. take first binary backup\n",
    "packd 'utils'\n",
    "\n",
    "NB. load futs with utils on path\n",
    "od ;:'futs utils' [ 3 od ''\n",
    "0!:0 <jpath '~temp/futs.ijs'\n",
    "NB. rebuild references\n",
    "0 globs&> }. revo ''\n",
    "NB. take first binary backup\n",
    "packd 'futs'\n",
    "\n",
    "NB. close dictionaries\n",
    "3 od ''\n",
    "~~~"
   ]
  },
  {
   "cell_type": "markdown",
   "id": "e628f5ba",
   "metadata": {},
   "source": [
    "The rest of this notebook *assumes* you have installed `futs` and `utils`. \n",
    "\n",
    "It also assumes a basic knowledge of JOD. See the JOD Manual for details.\n",
    "The JOD Manual is distributed in the `general/joddocument` addon - see:\n",
    "\n",
    "     ~addons/general/joddocument/pdfdoc/jod.pdf\n",
    "     \n",
    "`jod.pdf` is also available on [The JOD Page](https://analyzethedatanotthedrivel.org/the-jod-page/)"
   ]
  },
  {
   "cell_type": "markdown",
   "id": "f1cf3efb",
   "metadata": {},
   "source": [
    "## `riseset` test suite\n",
    "\n",
    "Many `riseset` test cases are in `futs`. Groups of test cases are called \n",
    "suites. The contents of the `riseset` suite is:"
   ]
  },
  {
   "cell_type": "code",
   "execution_count": 11,
   "id": "8568aad6",
   "metadata": {},
   "outputs": [
    {
     "name": "stdout",
     "output_type": "stream",
     "text": [
      "+-+-----------------+----+-----+\n",
      "|1|opened (rw/ro) ->|futs|utils|\n",
      "+-+-----------------+----+-----+\n"
     ]
    }
   ],
   "source": [
    "NB. open futs and utils - assumed open until notebook end\n",
    "load 'general/jod'\n",
    "od ;:'futs utils' [ 3 od ''"
   ]
  },
  {
   "cell_type": "code",
   "execution_count": 12,
   "id": "a8c78a34",
   "metadata": {},
   "outputs": [
    {
     "name": "stdout",
     "output_type": "stream",
     "text": [
      "+---------------------+\n",
      "|1                    |\n",
      "+---------------------+\n",
      "|riseset_atan2_smoke  |\n",
      "+---------------------+\n",
      "|riseset_espenak_smoke|\n",
      "+---------------------+\n",
      "|riseset_meeus_smoke  |\n",
      "+---------------------+\n",
      "|riseset_riseset_smoke|\n",
      "+---------------------+\n",
      "|riseset_tanner_smoke |\n",
      "+---------------------+\n"
     ]
    }
   ],
   "source": [
    "NB. list test cases in (riseset) suite\n",
    ",. 3 grp 'riseset'"
   ]
  },
  {
   "cell_type": "code",
   "execution_count": 13,
   "id": "6b1c336d",
   "metadata": {},
   "outputs": [
    {
     "name": "stdout",
     "output_type": "stream",
     "text": [
      "NB.*riseset_riseset_smoke t-- (riseset) smoke tests.\n",
      "NB.\n",
      "NB. created: 2023mar27\n",
      "NB. changes: -----------------------------------------------------\n",
      "\n",
      "load 'riseset'\n",
      "\n",
      "NB. meeus pg. 99,100\n",
      "LB=: _71.0833 42.3333  NB. Boston\n",
      "YMD=: 1988 3 20\n",
      "UO=: 0\n",
      "NB. add objects not in IAU names - needs - name, ra, dec\n",
      "AOB=. (<;:'Venus'),(<41.73129),<18.44092\n",
      "AOB=. ,&.> (;:'OBJ_Name OBJ_RA_J2000 OBJ_Dec_J2000') ,. AOB\n",
      "DeltaTsOveride_riseset_=: 56\n",
      "Vrs=: (YMD;UO;LB;<AOB) riseset 'Venus'\n",
      "0 0$erase 'DeltaTsOveride_riseset_'\n",
      "\n",
      "NB. values are within 10 minutes of the meeus book \n",
      "NB. result - not great but good enough for demo work\n",
      "Meeusmin=:  +/\" 1 ] 60 1 *\"1 ] 12 25 , 19 41 ,: 2 55\n",
      "10 > >./|Meeusmin - +/\" 1 ] 60 1 *\"1 ] _2 {.\"1 ;2 {\"1 Vrs \n",
      "\n",
      "LB=:  _116.375956 43.646775   NB. Meridian \n",
      "YMD=: 2023 3 27\n",
      "UO=:  6                       NB. MST UTC offset\n",
      "\n",
      "Rs=: (YMD;UO;LB) riseset 'Algol' \n",
      "Rs=: (YMD;UO;LB) riseset 'Algol';'Rigel';'Spica'\n",
      "\n",
      "NB. Bright Stars for 2023 3 27 Meridian\n",
      "NB. https://www.almanac.com/astronomy/bright-stars/zipcode/83646/2023-03-27\n",
      "Bs=: ;:'Altair Deneb Fomalhaut Algol Aldebaran Rigel Capella Bellatrix'\n",
      "Bs=: Bs,;:'Betelgeuse Sirius Procyon Pollux Regulus Spica Arcturus Antares Vega' \n",
      "\n",
      "Rs=: (YMD;UO;LB) riseset Bs\n",
      "\n",
      "NB. transits match fairly well rise/sets differ 5 to 10 minutes\n",
      "BsTransit=: 9 18,10 8,12 25,16 35,18 2,18 41,18 43,:18 51\n",
      "BsTransit=: BsTransit , 19 21,20 11,21 5,21 11,23 34,2 54,3 44,5 58,:8 4\n",
      "\n",
      "NB. transit altitude degrees\n",
      "BsAlt=: 55 88 16 87 62 38 87 52\n",
      "BsAlt=: BsAlt,53 29 51 74 58 35 65 19 85\n",
      "\n",
      "TMP=: {:\"1 Rs\n",
      "ALT=: ((<1;,0)&{&> TMP) ,. BsAlt \n",
      "TRT=: ((<1;2 3)&{&> TMP) ,. BsTransit\n",
      "\n",
      "NB. altitudes match to 1 degree\n",
      "1 = >./ -/\"1 ALT\n",
      "\n",
      "NB. transit times match to 1 minute in worst case\n",
      "1 = >./ | (60 #:^:_1 ] 0 1 {\"1 TRT) - 60 #:^:_1 ] 2 3 {\"1 TRT\n",
      "\n",
      "'IAU NAV'=: loadstars 0\n",
      "({.\"1 NAV)=: {:\"1 NAV\n",
      "({.\"1 IAU)=: {:\"1 IAU\n",
      "Navrs=: (YMD;UO;LB) riseset Nav_Star_Name\n",
      "Iaurs=: (YMD;UO;LB) riseset IAU_Name\n",
      "\n",
      "NB. default \n",
      "Meridianrs=: iau_today 0\n",
      "\n",
      "NB. date of Uluru star party diner\n",
      "uYMD=: 2022 10 19\n",
      "ULURU=: 131.01941 _25.34301\n",
      "uUTC=: _9.5 \n",
      "uLMAG=: 6.0\n",
      "uLHORZ=: 5\n",
      "Ulururs=: (uYMD;ULURU;uUTC;uLMAG;uLHORZ) iau_today 0\n",
      "\n",
      "\n",
      "0 0$erase 'AOB Meeusmin Vrs LB YMD UO Rs Bs BsTransit BsAlt TMP ALT TRT Navrs Iaurs'\n",
      "0 0$erase (;:'IAU NAV') , ({.\"1 NAV), {.\"1 IAU\n",
      "0 0$erase 'uYMD ULURU uUTC uLMAG uLHORZ Meridianrs Ulururs'\n",
      "\n",
      "smoutput 'PASSED:: riseset_riseset_smoke'\n"
     ]
    }
   ],
   "source": [
    "NB. show test case\n",
    "1 disp 'riseset_riseset_smoke'"
   ]
  },
  {
   "cell_type": "code",
   "execution_count": 14,
   "id": "377e8646",
   "metadata": {},
   "outputs": [
    {
     "name": "stdout",
     "output_type": "stream",
     "text": [
      "NB. (riseset) interface word(s): 20230329j134912\n",
      "NB. ----------------------------\n",
      "NB. iau_today  NB. named IAU stars rising/setting today\n",
      "NB. loadstars  NB. loads riseset star data\n",
      "NB. riseset    NB. rise, transit, set times of stars\n",
      "\n",
      "PASSED:: riseset_atan2_smoke\n",
      "NB. (riseset) interface word(s): 20230329j134912\n",
      "NB. ----------------------------\n",
      "NB. iau_today  NB. named IAU stars rising/setting today\n",
      "NB. loadstars  NB. loads riseset star data\n",
      "NB. riseset    NB. rise, transit, set times of stars\n",
      "\n",
      "PASSED:: riseset_espenak_smoke\n",
      "NB. (riseset) interface word(s): 20230329j134912\n",
      "NB. ----------------------------\n",
      "NB. iau_today  NB. named IAU stars rising/setting today\n",
      "NB. loadstars  NB. loads riseset star data\n",
      "NB. riseset    NB. rise, transit, set times of stars\n",
      "\n",
      "PASSED:: riseset_meeus_smoke\n",
      "NB. (riseset) interface word(s): 20230329j134912\n",
      "NB. ----------------------------\n",
      "NB. iau_today  NB. named IAU stars rising/setting today\n",
      "NB. loadstars  NB. loads riseset star data\n",
      "NB. riseset    NB. rise, transit, set times of stars\n",
      "\n",
      "PASSED:: riseset_riseset_smoke\n",
      "NB. (riseset) interface word(s): 20230329j134912\n",
      "NB. ----------------------------\n",
      "NB. iau_today  NB. named IAU stars rising/setting today\n",
      "NB. loadstars  NB. loads riseset star data\n",
      "NB. riseset    NB. rise, transit, set times of stars\n",
      "\n",
      "PASSED:: riseset_tanner_smoke\n",
      "1\n"
     ]
    }
   ],
   "source": [
    "NB. run all the test cases in the suite \n",
    "NB. suppressing all but (smoutput) output\n",
    "NB. Each test will show PASSED:: if OK.\n",
    "4 rtt 'riseset'"
   ]
  },
  {
   "cell_type": "markdown",
   "id": "4c05bfff",
   "metadata": {},
   "source": [
    "## Building `riseset`\n",
    "\n",
    "There are a number of test scripts in `futs` that build and distribute `riseset`.\n",
    "These scripts are tuned to my environment but they do illustrate how to\n",
    "*make* a distribution script."
   ]
  },
  {
   "cell_type": "code",
   "execution_count": 15,
   "id": "f38922dc",
   "metadata": {},
   "outputs": [
    {
     "name": "stdout",
     "output_type": "stream",
     "text": [
      "NB.*build_riseset t-- build (riseset) and distribute.\n",
      "NB.\n",
      "NB. created: 2023mar09\n",
      "NB. changes: -----------------------------------------------------\n",
      "\n",
      "coclass tmploc_AAAbuild999_=: 'AAAbuild999' [ coerase <'AAAbuild999'\n",
      "coinsert 'ijod'\n",
      "\n",
      "scrn=: 'riseset'\n",
      "\n",
      ">0{OPENDIC=: did 0  \n",
      "\n",
      "NB. if (imex) is first dictionary on path include it\n",
      "headdic=: ('imex'-:>1{OPENDIC)#'imex '\n",
      "\n",
      ">0{od ;: headdic,'futs utils' [ 3 od ''\n",
      "\n",
      ">0{tmploc get ;:'gettxt getmd read write showpass sha256 afterstr beforestr jnow jnowpost timestamp VMD',scrn,' ',scrn,'_hashdateurl'\n",
      "\n",
      "NB. insert/replace build time stamp on post processor\n",
      ">0{'rc ncv'=: MACRO_ajod_ get 'POST_',scrn\n",
      ">0{MACRO_ajod_ put (<jnowpost ;2 { ncv) 2} ncv=: ,ncv\n",
      "\n",
      "NB. update VMD\n",
      "vmd=: \".'VMD',scrn\n",
      "builddtm=: timestamp ''\n",
      "('VMD',scrn)=: (0{vmd),(<1+>1{vmd),<builddtm\n",
      ">0{tmploc put 'VMD',scrn \n",
      "\n",
      "smoutput 'building version -> ';\".'VMD',scrn\n",
      "\n",
      "NB. get history document\n",
      "NB. (histmd,'_md')=: MACRO_ajod_ disp (histmd=: 'HISTORY_',scrn),'_md'\n",
      "\n",
      "NB. get todo document\n",
      "NB. (todomd,'_md')=: MACRO_ajod_ disp (todomd=: 'TODO_',scrn),'_md'\n",
      "\n",
      "NB. generate load script\n",
      "rc [ 'rc msg file'=: mls scrn\n",
      "\n",
      "NB. generate companion - contains words used to test main group\n",
      "rc [ 'rc msg2 file2'=: mls scrn,'Utils'\n",
      "\n",
      "NB. update hash\n",
      "ghash=: \".scrn,'_hashdateurl'\n",
      "(scrn,'_hashdateurl')=: ((sha256 read file);builddtm) (0 1)} ghash\n",
      ">0{tmploc put scrn,'_hashdateurl' \n",
      "\n",
      "NB. update distribution files\n",
      "(3 : 0) file\n",
      "if. IFWIN do.\n",
      "  smoutput 'saved in ~JACKSHACKS'\n",
      "\n",
      "  djacksd=. jpath '~JACKSHACKS/'\n",
      "  scr=. djacksd,scrn,'.ijs'\n",
      "  (toHOST file) write scr\n",
      "  \n",
      "  NB. copy associated files\n",
      "  'Dname Dobj'=. ({. , {:) 0{DPATH__ST__JODobj\n",
      "  if. Dname -: 'futs' do.\n",
      "    NB. local (futs) document directory\n",
      "    docd=. \". 'DOC_',Dobj,'_'\n",
      "    (read docd,'riseset.pdf') write djacksd,'riseset.pdf'\n",
      "  end.\n",
      "  jtmpd=. jpath '~temp\\'\n",
      "  (read jtmpd,'riseset_notebook.ipynb') write djacksd,'riseset_notebook.ipynb'\n",
      "  (read jtmpd,'riseset_notebook.pdf') write djacksd,'riseset_notebook.pdf'\n",
      "\n",
      "  dtestd=. jpath '~JACKSHACKS/testdata/'\n",
      "  dtestd gettxt 'iau_named_stars_2022_txt'\n",
      "  dtestd gettxt 'Navigation_Stars_txt'\n",
      "  dtestd getmd 'Bright_Stars_Meridian_Almanac_23mar27_md'\n",
      "elseif. IFUNIX do.\n",
      "  smoutput scr=. 'NIMP: save in ~JACKSHACKS'\n",
      "  NB. scr=. jpath '~/git/jackshacks/',scrn,'.ijs'\n",
      "  NB. (toHOST file) write scr\n",
      "elseif.do.\n",
      "  1 [ showpass 'distributed on WIN/UNIX only' return.\n",
      "end.\n",
      "\n",
      "if. fexist scr do. \n",
      "  1 [ (read y) write showpass scr\n",
      "else.\n",
      "  1 [ showpass 'missing distribution script ->';scr\n",
      "end.\n",
      ")\n",
      "\n",
      "cocurrent tmploc_AAAbuild999_\n",
      ">0{od }. OPENDIC [ 3 od ''\n",
      "\n",
      "cocurrent 'base'\n",
      "coerase <tmploc_AAAbuild999_\n",
      "\n",
      "+-+---------+----+-----+\n",
      "|1|closed ->|futs|utils|\n",
      "+-+---------+----+-----+\n"
     ]
    }
   ],
   "source": [
    "NB. show main riseset maker\n",
    "smoutput 1 disp 'build_riseset'\n",
    "3 od ''"
   ]
  },
  {
   "cell_type": "markdown",
   "id": "525c1a4a",
   "metadata": {},
   "source": [
    "## All done - thanks for playing"
   ]
  },
  {
   "cell_type": "code",
   "execution_count": null,
   "id": "f5560e4d",
   "metadata": {},
   "outputs": [],
   "source": []
  }
 ],
 "metadata": {
  "kernelspec": {
   "display_name": "J",
   "language": "J",
   "name": "jkernel"
  },
  "language_info": {
   "file_extension": ".ijs",
   "mimetype": "text/J",
   "name": "J"
  }
 },
 "nbformat": 4,
 "nbformat_minor": 5
}
