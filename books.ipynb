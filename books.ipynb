{
 "cells": [
  {
   "cell_type": "markdown",
   "metadata": {},
   "source": [
    "## Book Statistics\n",
    "\n",
    "This notebook summarizes my books read.\n",
    "\n",
    "Since 1969, I have maintained a \"books read\" list. It is my oldest running document. I thank my now-deceased friend, Richard Moore, for inspiring me. He said most people exaggerate the number of books they read and advised me to keep track for a few years and see for myself. He was right. I don’t read nearly as much as I should. \n",
    "\n",
    "My books list has strict rules. \n",
    "1.\tBooks must be read entirely. \n",
    "2.\tExtensive foot and endnotes must also be read.\n",
    "3.\tBibliographies and indexes can be omitted. \n",
    "\n",
    "My rules result in a lot of unrecorded reading. Web pages, articles, and partially read material are not noted. This is a substantial fraction of my reading."
   ]
  },
  {
   "cell_type": "code",
   "execution_count": 1,
   "metadata": {
    "scrolled": true
   },
   "outputs": [
    {
     "name": "stdout",
     "output_type": "stream",
     "text": [
      "\n",
      "j9.6.0-beta23/j64avx2/windows/commercial/www.jsoftware.com/2024-10-30T19:38:14/clang-18-1-8/SLEEF=1\n",
      "10 Nov 2024 15:04:16\n"
     ]
    }
   ],
   "source": [
    "NB. J version - notebook runtime\n",
    "smoutput 9!:14''\n",
    "smoutput timestamp 6!:0 ''"
   ]
  },
  {
   "cell_type": "markdown",
   "metadata": {},
   "source": [
    "### Load `books` script\n",
    "\n",
    "The `books.ijs` script must be made available to the J `load` utility. Here a J configured folder `~BOOKS` has been defined. See the test script `build_books` in `docs` JOD dictionary."
   ]
  },
  {
   "cell_type": "code",
   "execution_count": 2,
   "metadata": {},
   "outputs": [
    {
     "name": "stdout",
     "output_type": "stream",
     "text": [
      "NB. (books) interface word(s): 20241110j145628\n",
      "NB. --------------------------\n",
      "NB. bookctgstats   NB. book category statistics\n",
      "NB. booksperyear2  NB. books per year from standard btcl books table\n",
      "NB. manyauthors    NB. authors read more than once\n",
      "NB. manyreads      NB. books read more than once\n",
      "NB. stdbookstab    NB. standard books table\n",
      "\n"
     ]
    }
   ],
   "source": [
    "NB. read books script - assumes configured J folder BOOKS\n",
    "load '~BOOKS/books.ijs'"
   ]
  },
  {
   "cell_type": "markdown",
   "metadata": {},
   "source": [
    "### Set various utils"
   ]
  },
  {
   "cell_type": "code",
   "execution_count": 3,
   "metadata": {},
   "outputs": [],
   "source": [
    "NB. set portable box characters for LaTeX\n",
    "0 0$portchars ''\n",
    "\n",
    "NB. cell clip format\n",
    "ccf=: [ {.\"1 [: \": ]"
   ]
  },
  {
   "cell_type": "code",
   "execution_count": 4,
   "metadata": {},
   "outputs": [
    {
     "name": "stdout",
     "output_type": "stream",
     "text": [
      "+-----+-+--------------------+\n",
      "|0.5.0|2|10 Nov 2024 14:56:28|\n",
      "+-----+-+--------------------+\n"
     ]
    }
   ],
   "source": [
    "NB. script version\n",
    "VMDbooks"
   ]
  },
  {
   "cell_type": "markdown",
   "metadata": {},
   "source": [
    "### Load books read data"
   ]
  },
  {
   "cell_type": "code",
   "execution_count": 5,
   "metadata": {},
   "outputs": [],
   "source": [
    "NB. read and parse books read file - assumes configured J folder BOOKS\n",
    "btab=: stdbookstab '~JACKSHACKS/testdata/books_sample.txt'\n",
    "NB. btab=: stdbookstab '~BOOKS/books.txt'"
   ]
  },
  {
   "cell_type": "markdown",
   "metadata": {},
   "source": [
    "### Total books read count"
   ]
  },
  {
   "cell_type": "code",
   "execution_count": 6,
   "metadata": {},
   "outputs": [
    {
     "name": "stdout",
     "output_type": "stream",
     "text": [
      "278\n"
     ]
    }
   ],
   "source": [
    "NB. row count without header\n",
    "<:#btab"
   ]
  },
  {
   "cell_type": "markdown",
   "metadata": {},
   "source": [
    "### Books read per year"
   ]
  },
  {
   "cell_type": "code",
   "execution_count": 7,
   "metadata": {},
   "outputs": [
    {
     "name": "stdout",
     "output_type": "stream",
     "text": [
      "2024 20,  2023 27,  2022 20,  2021 21,  2020  3,  2019 10,  \n",
      "2018 15,  2017 25,  2016 25,  2015 28,  2014 30,  2013 17,  \n",
      "2012 11,  2011  6,  2010  1,  2009  0,  2008  0,  2007  5,  \n",
      "2006  0,  2005  1,  2004  0,  2003  1,  2002  7,  2001  5,  \n"
     ]
    }
   ],
   "source": [
    "60 list (\": |. |: bpy=: booksperyear2 btab) ,\"1 ', '"
   ]
  },
  {
   "cell_type": "markdown",
   "metadata": {},
   "source": [
    "### Books read statistics"
   ]
  },
  {
   "cell_type": "code",
   "execution_count": 8,
   "metadata": {},
   "outputs": [
    {
     "name": "stdout",
     "output_type": "stream",
     "text": [
      "sample size:          24\n",
      "minimum:               0\n",
      "maximum:              30\n",
      "1st quartile:          1\n",
      "2nd quartile:        8.5\n",
      "3rd quartile:       20.5\n",
      "first mode:            0\n",
      "first antimode:        7\n",
      "mean:            11.5833\n",
      "std devn:        10.5621\n",
      "skewness:         0.3822\n",
      "kurtosis:         1.6336\n"
     ]
    }
   ],
   "source": [
    "dstat 1{bpy"
   ]
  },
  {
   "cell_type": "code",
   "execution_count": 9,
   "metadata": {},
   "outputs": [
    {
     "name": "stdout",
     "output_type": "stream",
     "text": [
      "2014 2015 2023 2016 2017 2010 2004 2006 2008 2009\n",
      "  30   28   27   25   25    1    0    0    0    0\n"
     ]
    }
   ],
   "source": [
    "NB. five best and worst reading years\n",
    "bpy {\"1~ ,5 _5 {.\"0 1 \\: 1{bpy"
   ]
  },
  {
   "cell_type": "markdown",
   "metadata": {},
   "source": [
    "### Books read by category"
   ]
  },
  {
   "cell_type": "code",
   "execution_count": 10,
   "metadata": {},
   "outputs": [
    {
     "name": "stdout",
     "output_type": "stream",
     "text": [
      "non-fic       146 52.518 146 0.525\n",
      "sci-fic        62 22.302 208 0.748\n",
      "fiction        22  7.914 230 0.827\n",
      "history         9  3.237 239  0.86\n",
      "biography       9  3.237 248 0.892\n",
      "programming     7  2.518 255 0.917\n",
      "poetry          7  2.518 262 0.942\n",
      "mathematics     7  2.518 269 0.968\n",
      "autobiography   4  1.439 273 0.982\n",
      "philosophy      1   0.36 274 0.986\n",
      "fantasy         1   0.36 275 0.989\n",
      "comp-sci        1   0.36 276 0.993\n",
      "manual          1   0.36 277 0.996\n",
      "graphic         1   0.36 278     1\n"
     ]
    }
   ],
   "source": [
    "bookctgstats btab"
   ]
  },
  {
   "cell_type": "markdown",
   "metadata": {},
   "source": [
    "### Books read more than once"
   ]
  },
  {
   "cell_type": "code",
   "execution_count": 11,
   "metadata": {},
   "outputs": [
    {
     "name": "stdout",
     "output_type": "stream",
     "text": [
      "\n"
     ]
    }
   ],
   "source": [
    "70 manyreads btab"
   ]
  },
  {
   "cell_type": "markdown",
   "metadata": {},
   "source": [
    "### Most frequently read authors"
   ]
  },
  {
   "cell_type": "code",
   "execution_count": 12,
   "metadata": {},
   "outputs": [
    {
     "name": "stdout",
     "output_type": "stream",
     "text": [
      "Peter F. Hamilton 13; Neal Stephenson 4; Alastair Reynolds 4;\n",
      "Ansel Adams 3; Kim Stanley Robinson 3; Iain M. Banks 3;\n",
      "Amir D. Aczel 2; Dan Simmons 2; Ray Kurzweil 2; Gregory Chaitin 2;\n",
      "Christopher Hitchens 2; Albert Camus 2; Amir Alexander 2;\n",
      "Gregory Benford & Larry Niven 2; Mark Twain 2; Mary Oliver 2;\n",
      "Eric H. Cline 2; Yuval Noah Harari 2; Nnedi Okorafor 2;\n",
      "Karl Sigmund 2; Alfred S. Posamentier 2; Christopher Paolini 2;\n",
      "Richard Holmes 2; Roy Peter Clark 2; Arkady Martine 2;\n",
      "Steve Brusatte 2;\n"
     ]
    }
   ],
   "source": [
    "70 manyauthors btab"
   ]
  },
  {
   "cell_type": "markdown",
   "metadata": {},
   "source": [
    "### All done - thanks for playing!"
   ]
  }
 ],
 "metadata": {
  "kernelspec": {
   "display_name": "J",
   "language": "J",
   "name": "jkernel"
  },
  "language_info": {
   "file_extension": ".ijs",
   "mimetype": "text/J",
   "name": "J"
  }
 },
 "nbformat": 4,
 "nbformat_minor": 2
}
