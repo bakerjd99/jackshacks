{
 "cells": [
  {
   "cell_type": "markdown",
   "metadata": {},
   "source": [
    "## Book Statistics\n",
    "\n",
    "This notebook summarizes my books read.\n",
    "\n",
    "Since 1969, I have maintained a \"books read\" list. It is my oldest running document. I thank my now-deceased friend, Richard Moore, for inspiring me. He said most people exaggerate the number of books they read and advised me to keep track for a few years and see for myself. He was right. I don’t read nearly as much as I should. \n",
    "\n",
    "My books list has strict rules. \n",
    "1.\tBooks must be read entirely. \n",
    "2.\tExtensive foot and endnotes must also be read.\n",
    "3.\tBibliographies and indexes can be omitted. \n",
    "\n",
    "My rules result in a lot of unrecorded reading. Web pages, articles, and partially read material are not noted. This is a substantial fraction of my reading."
   ]
  },
  {
   "cell_type": "code",
   "execution_count": 1,
   "metadata": {
    "scrolled": true
   },
   "outputs": [
    {
     "name": "stdout",
     "output_type": "stream",
     "text": [
      "\n",
      "j9.6.0-beta23/j64avx2/windows/commercial/www.jsoftware.com/2024-10-30T19:38:14/clang-18-1-8/SLEEF=1\n",
      "14 Nov 2024 16:48:51\n"
     ]
    }
   ],
   "source": [
    "NB. J version - notebook runtime\n",
    "smoutput 9!:14''\n",
    "smoutput timestamp 6!:0 ''"
   ]
  },
  {
   "cell_type": "markdown",
   "metadata": {},
   "source": [
    "### Load `books` script\n",
    "\n",
    "The `books.ijs` script must be made available to the J `load` utility. Here a J configured folder `~BOOKS` has been defined. See the test script `build_books` in `docs` JOD dictionary."
   ]
  },
  {
   "cell_type": "code",
   "execution_count": 2,
   "metadata": {},
   "outputs": [
    {
     "name": "stdout",
     "output_type": "stream",
     "text": [
      "NB. (books) interface word(s): 20241114j163547\n",
      "NB. --------------------------\n",
      "NB. bookctgstats   NB. book category statistics\n",
      "NB. booksperyear2  NB. books per year from standard btcl books table\n",
      "NB. manyauthors    NB. authors read more than once\n",
      "NB. manyreads      NB. books read more than once\n",
      "NB. stdbookstab    NB. standard books table\n",
      "\n"
     ]
    }
   ],
   "source": [
    "NB. load books script - assumes a configured J folder BOOKS \n",
    "load '~BOOKS/books.ijs'"
   ]
  },
  {
   "cell_type": "markdown",
   "metadata": {},
   "source": [
    "### Set various utils"
   ]
  },
  {
   "cell_type": "code",
   "execution_count": 3,
   "metadata": {},
   "outputs": [],
   "source": [
    "NB. set portable box characters for LaTeX\n",
    "0 0$portchars ''\n",
    "\n",
    "NB. cell clip format\n",
    "ccf=: [ {.\"1 [: \": ]\n",
    "\n",
    "NB. set wrap width\n",
    "wrpwid=: 70"
   ]
  },
  {
   "cell_type": "code",
   "execution_count": 4,
   "metadata": {},
   "outputs": [
    {
     "name": "stdout",
     "output_type": "stream",
     "text": [
      "+-----+-+--------------------+\n",
      "|0.5.1|3|14 Nov 2024 16:35:47|\n",
      "+-----+-+--------------------+\n"
     ]
    }
   ],
   "source": [
    "NB. script version\n",
    "VMDbooks"
   ]
  },
  {
   "cell_type": "markdown",
   "metadata": {},
   "source": [
    "### Load books read data"
   ]
  },
  {
   "cell_type": "code",
   "execution_count": 5,
   "metadata": {},
   "outputs": [],
   "source": [
    "NB. read and parse books read file - assumes configured J folders\n",
    "NB. btab=: stdbookstab '~JACKSHACKS/testdata/books_sample.txt'\n",
    "NB. btab=: stdbookstab '~JACKS/testdata/books_sample.txt'\n",
    "btab=: stdbookstab '~BOOKS/books.txt'"
   ]
  },
  {
   "cell_type": "markdown",
   "metadata": {},
   "source": [
    "### Total books read count"
   ]
  },
  {
   "cell_type": "code",
   "execution_count": 6,
   "metadata": {},
   "outputs": [
    {
     "name": "stdout",
     "output_type": "stream",
     "text": [
      "917\n"
     ]
    }
   ],
   "source": [
    "NB. row count without header\n",
    "<:#btab"
   ]
  },
  {
   "cell_type": "markdown",
   "metadata": {},
   "source": [
    "### Books read per year"
   ]
  },
  {
   "cell_type": "code",
   "execution_count": 7,
   "metadata": {},
   "outputs": [
    {
     "name": "stdout",
     "output_type": "stream",
     "text": [
      "2024 22,  2023 27,  2022 20,  2021 21,  2020  3,  2019 10,  2018 15,  \n",
      "2017 25,  2016 25,  2015 28,  2014 30,  2013 17,  2012 11,  2011  6,  \n",
      "2010  1,  2009  0,  2008  0,  2007  5,  2006  0,  2005  1,  2004  0,  \n",
      "2003  1,  2002  7,  2001  5,  2000 10,  1999  7,  1998 18,  1997 14,  \n",
      "1996 17,  1995 12,  1994 10,  1993 15,  1992  7,  1991 11,  1990 23,  \n",
      "1989 37,  1988 11,  1987 11,  1986 14,  1985  3,  1984  7,  1983 20,  \n",
      "1982  9,  1981 14,  1980 11,  1979 21,  1978 32,  1977 55,  1976 51,  \n",
      "1975 54,  1974 30,  1973 21,  1972 14,  1971 23,  1970 26,  1969 29,  \n"
     ]
    }
   ],
   "source": [
    "wrpwid list (\": |. |: bpy=: booksperyear2 btab) ,\"1 ', '"
   ]
  },
  {
   "cell_type": "markdown",
   "metadata": {},
   "source": [
    "### Books read statistics"
   ]
  },
  {
   "cell_type": "code",
   "execution_count": 8,
   "metadata": {},
   "outputs": [
    {
     "name": "stdout",
     "output_type": "stream",
     "text": [
      "sample size:          56\n",
      "minimum:               0\n",
      "maximum:              55\n",
      "1st quartile:          7\n",
      "2nd quartile:         14\n",
      "3rd quartile:         24\n",
      "first mode:           11\n",
      "first antimode:       29\n",
      "mean:             16.375\n",
      "std devn:        12.9567\n",
      "skewness:         1.1425\n",
      "kurtosis:         4.3795\n"
     ]
    }
   ],
   "source": [
    "dstat 1{bpy"
   ]
  },
  {
   "cell_type": "code",
   "execution_count": 9,
   "metadata": {},
   "outputs": [
    {
     "name": "stdout",
     "output_type": "stream",
     "text": [
      "1977 1975 1976 1989 1978 2010 2004 2006 2008 2009\n",
      "  55   54   51   37   32    1    0    0    0    0\n"
     ]
    }
   ],
   "source": [
    "NB. five best and worst reading years\n",
    "bpy {\"1~ ,5 _5 {.\"0 1 \\: 1{bpy"
   ]
  },
  {
   "cell_type": "markdown",
   "metadata": {},
   "source": [
    "### Books read by category"
   ]
  },
  {
   "cell_type": "code",
   "execution_count": 10,
   "metadata": {},
   "outputs": [
    {
     "name": "stdout",
     "output_type": "stream",
     "text": [
      "sci-fic       354 38.604 354 0.386\n",
      "non-fic       317 34.569 671 0.732\n",
      "fiction        87  9.487 758 0.827\n",
      "biography      27  2.944 785 0.856\n",
      "history        24  2.617 809 0.882\n",
      "fantasy        21   2.29 830 0.905\n",
      "mathematics    14  1.527 844  0.92\n",
      "philosophy     13  1.418 857 0.935\n",
      "autobiography  12  1.309 869 0.948\n",
      "programming     7  0.763 876 0.955\n",
      "poetry          7  0.763 883 0.963\n",
      "humor           5  0.545 888 0.968\n",
      "science         4  0.436 892 0.973\n",
      "drama           4  0.436 896 0.977\n",
      "manual          4  0.436 900 0.981\n",
      "comp-sci        3  0.327 903 0.985\n",
      "physics         2  0.218 905 0.987\n",
      "speculation     2  0.218 907 0.989\n",
      "criticism       2  0.218 909 0.991\n",
      "sports          2  0.218 911 0.993\n",
      "satire          1  0.109 912 0.995\n",
      "                1  0.109 913 0.996\n",
      "education       1  0.109 914 0.997\n",
      "soft-eng        1  0.109 915 0.998\n",
      "self-help       1  0.109 916 0.999\n",
      "graphic         1  0.109 917     1\n"
     ]
    }
   ],
   "source": [
    "bookctgstats btab"
   ]
  },
  {
   "cell_type": "markdown",
   "metadata": {},
   "source": [
    "### Books read more than once"
   ]
  },
  {
   "cell_type": "code",
   "execution_count": 11,
   "metadata": {},
   "outputs": [
    {
     "name": "stdout",
     "output_type": "stream",
     "text": [
      "+-+-------------------------------------------------------------------+\n",
      "|3|Zen and the Art of Motorcycle Maintenance;                         |\n",
      "+-+-------------------------------------------------------------------+\n",
      "|2|Brave New World; Brighter than a Thousand Suns; Dune; Nova;        |\n",
      "| |Play Great Golf; Protector; Rendezvous with Rama; Ringworld;       |\n",
      "| |The Backyard Astronomer's Guide; The Dispossessed;                 |\n",
      "| |The Fellowship of the Ring; The Hobbit; The Mote in God's Eye;     |\n",
      "| |The Return of the King; The Two Towers; Time for the Stars; Triton;|\n",
      "| |World's Best SF;                                                   |\n",
      "+-+-------------------------------------------------------------------+\n"
     ]
    }
   ],
   "source": [
    "wrpwid manyreads btab"
   ]
  },
  {
   "cell_type": "markdown",
   "metadata": {},
   "source": [
    "### Most frequently read authors\n",
    "\n",
    "Editors and translators and marked with the strings `:ed:` and `:tr:` in the authors column.\n",
    "They appear as author suffixes and are removed for this calculation. They count as the `null` or empty author which shows as `;` in the following counts."
   ]
  },
  {
   "cell_type": "code",
   "execution_count": 12,
   "metadata": {},
   "outputs": [
    {
     "name": "stdout",
     "output_type": "stream",
     "text": [
      "+--+---------------------------------------------------------------------+\n",
      "|30|;                                                                    |\n",
      "+--+---------------------------------------------------------------------+\n",
      "|22|Larry Niven;                                                         |\n",
      "+--+---------------------------------------------------------------------+\n",
      "|21|Isaac Asimov;                                                        |\n",
      "+--+---------------------------------------------------------------------+\n",
      "|20|Arthur C. Clarke;                                                    |\n",
      "+--+---------------------------------------------------------------------+\n",
      "|13|Peter F. Hamilton;                                                   |\n",
      "+--+---------------------------------------------------------------------+\n",
      "|11|Frederick Pohl; Robert A. Heinlein;                                  |\n",
      "+--+---------------------------------------------------------------------+\n",
      "|9 |J.R.R. Tolkien; Jerry Pournelle;                                     |\n",
      "+--+---------------------------------------------------------------------+\n",
      "|8 |Gregory Benford;                                                     |\n",
      "+--+---------------------------------------------------------------------+\n",
      "|7 |Kurt Vonnegut Jr.; Neal Stephenson; Ray Bradbury; Samuel R. Delany;  |\n",
      "+--+---------------------------------------------------------------------+\n",
      "|6 |Alastair Reynolds; Dan Simmons; Greg Bear; John Wyndham;             |\n",
      "|  |Poul Anderson; Ursula K. Leguin;                                     |\n",
      "+--+---------------------------------------------------------------------+\n",
      "|5 |Carl Sagan; Frank Herbert; Harlan Ellison; Philip K. Dick;           |\n",
      "|  |Robert M. Pirsig; Roger Zelazny; Thomas M. Disch;                    |\n",
      "+--+---------------------------------------------------------------------+\n",
      "|4 |Bob Shaw; Brian Aldiss; C.M. Kornbluth; Ernest Hemingway;            |\n",
      "|  |James Tiptree Jr.; Kim Stanley Robinson; Philip Jose Farmer;         |\n",
      "|  |Richard Dawkins; Robert L. Forward; Stephen Jay Gould;               |\n",
      "|  |Stephen R. Donaldson; Theodore Strugeon;                             |\n",
      "+--+---------------------------------------------------------------------+\n",
      "|3 |Albert Camus; Aldous Huxley; Amir D. Aczel; Anne McCaffery;          |\n",
      "|  |Ansel Adams; Barnes; Bruce Chatwin; C.S. Lewis; Clifford Simak;      |\n",
      "|  |David Brin; Gentry Lee; H.G. Wells; Iain M. Banks; Jack Vance;       |\n",
      "|  |John Brunner; John Gribbin; John Steinbeck; John Varley; Mark Twain; |\n",
      "|  |Martin Caidin; Piers Anthony; Richard P. Feynman; Robertson Davies;  |\n",
      "|  |Stephen Baxter; Terence Dickinson; William Manchester;               |\n",
      "+--+---------------------------------------------------------------------+\n",
      "|2 |A.E. Van Vogt; Alan Lightman; Alexander Solzhenitsyn;                |\n",
      "|  |Alfred S. Posamentier; Amir Alexander; Arkady Martine; Arnold Palmer;|\n",
      "|  |Ben Bova; C. J. Cherryh; Christopher Hitchens; Christopher Paolini;  |\n",
      "|  |Dava Sobel; Dave Berry; Doris Lessing; Douglas Adams; Edward Yourdon;|\n",
      "|  |Eric H. Cline; Fred Hoyle; Gale E. Christianson; Gerald K. O'Neil;   |\n",
      "|  |Gregory Chaitin; Hal Clement; Heinz R. Pagels; Hubert L. Dreyfus;    |\n",
      "|  |Jack McDevitt; Joan D. Vinge; John Allen Paulos; John Boyd;          |\n",
      "|  |Joseph Heller; Karl Sigmund; Kate Wilhelm; Keith Devlin;             |\n",
      "|  |Kenneth E. Iverson; Kevin J. Anderson; Leo Tolstoy; Loren Eiseley;   |\n",
      "|  |Martin Gardner; Mary Oliver; Michael Coney; NASA; Niven;             |\n",
      "|  |Nnedi Okorafor; Pournelle; Ray Kurzweil; Richard Holmes;             |\n",
      "|  |Richard Rhodes; Robert J. Sawyer; Robert Jungk; Robert Silverberg;   |\n",
      "|  |Roy Peter Clark; Sinclair Lewis; Steve Brusatte; Tracy Kidder;       |\n",
      "|  |William Shakespeare; Yuval Noah Harari;                              |\n",
      "+--+---------------------------------------------------------------------+\n"
     ]
    }
   ],
   "source": [
    "wrpwid manyauthors btab"
   ]
  },
  {
   "cell_type": "markdown",
   "metadata": {},
   "source": [
    "### All done - thanks for playing!"
   ]
  }
 ],
 "metadata": {
  "kernelspec": {
   "display_name": "J",
   "language": "J",
   "name": "jkernel"
  },
  "language_info": {
   "file_extension": ".ijs",
   "mimetype": "text/J",
   "name": "J"
  }
 },
 "nbformat": 4,
 "nbformat_minor": 2
}
