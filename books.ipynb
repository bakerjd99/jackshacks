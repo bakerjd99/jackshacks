{
 "cells": [
  {
   "cell_type": "markdown",
   "metadata": {},
   "source": [
    "## Book Statistics\n",
    "\n",
    "This notebook summarizes my books read.\n",
    "\n",
    "Since 1969, I have maintained a \"books read\" list. It is my oldest running document. I thank my now-deceased friend, Richard Moore, for inspiring me. He said most people exaggerate the number of books they read and advised me to keep track for a few years and see for myself. He was right. I don’t read nearly as much as I should. \n",
    "\n",
    "My books list has strict rules. \n",
    "1.\tBooks must be read entirely. \n",
    "2.\tExtensive foot and endnotes must also be read.\n",
    "3.\tBibliographies and indexes can be omitted. \n",
    "\n",
    "My rules result in a lot of unrecorded reading. Web pages, articles, and partially read material are not noted. This is a substantial fraction of my reading."
   ]
  },
  {
   "cell_type": "code",
   "execution_count": null,
   "metadata": {
    "scrolled": true
   },
   "outputs": [],
   "source": [
    "NB. J version - notebook runtime\n",
    "smoutput 9!:14''\n",
    "smoutput timestamp 6!:0 ''"
   ]
  },
  {
   "cell_type": "markdown",
   "metadata": {},
   "source": [
    "### Load `books` script\n",
    "\n",
    "The `books.ijs` script must be made available to the J `load` utility. Here a J configured folder `~BOOKS` has been defined. See the test script `build_books` in `docs` JOD dictionary."
   ]
  },
  {
   "cell_type": "code",
   "execution_count": null,
   "metadata": {},
   "outputs": [],
   "source": [
    "NB. load books script - assumes a configured J folder BOOKS \n",
    "load '~BOOKS/books.ijs'"
   ]
  },
  {
   "cell_type": "markdown",
   "metadata": {},
   "source": [
    "### Set various utils"
   ]
  },
  {
   "cell_type": "code",
   "execution_count": null,
   "metadata": {},
   "outputs": [],
   "source": [
    "NB. set portable box characters for LaTeX\n",
    "0 0$portchars ''\n",
    "\n",
    "NB. cell clip format\n",
    "ccf=: [ {.\"1 [: \": ]\n",
    "\n",
    "NB. set wrap width\n",
    "wrpwid=: 70"
   ]
  },
  {
   "cell_type": "code",
   "execution_count": null,
   "metadata": {},
   "outputs": [],
   "source": [
    "NB. script version\n",
    "VMDbooks"
   ]
  },
  {
   "cell_type": "markdown",
   "metadata": {},
   "source": [
    "### Load books read data"
   ]
  },
  {
   "cell_type": "code",
   "execution_count": null,
   "metadata": {},
   "outputs": [],
   "source": [
    "NB. read and parse books read file - assumes configured J folders\n",
    "NB. btab=: stdbookstab '~JACKSHACKS/testdata/books_sample.txt'\n",
    "NB. btab=: stdbookstab '~addons/jacks/testdata/books_sample.txt'\n",
    "btab=: stdbookstab '~BOOKS/books.txt'"
   ]
  },
  {
   "cell_type": "markdown",
   "metadata": {},
   "source": [
    "### Total books read count"
   ]
  },
  {
   "cell_type": "code",
   "execution_count": null,
   "metadata": {},
   "outputs": [],
   "source": [
    "NB. row count without header\n",
    "<:#btab"
   ]
  },
  {
   "cell_type": "markdown",
   "metadata": {},
   "source": [
    "### Books read per year"
   ]
  },
  {
   "cell_type": "code",
   "execution_count": null,
   "metadata": {},
   "outputs": [],
   "source": [
    "wrpwid list (\": |. |: bpy=: booksperyear2 btab) ,\"1 ', '"
   ]
  },
  {
   "cell_type": "markdown",
   "metadata": {},
   "source": [
    "### Books read statistics"
   ]
  },
  {
   "cell_type": "code",
   "execution_count": null,
   "metadata": {},
   "outputs": [],
   "source": [
    "dstat 1{bpy"
   ]
  },
  {
   "cell_type": "code",
   "execution_count": null,
   "metadata": {},
   "outputs": [],
   "source": [
    "NB. five best and worst reading years\n",
    "bpy {\"1~ ,5 _5 {.\"0 1 \\: 1{bpy"
   ]
  },
  {
   "cell_type": "markdown",
   "metadata": {},
   "source": [
    "### Books read by category"
   ]
  },
  {
   "cell_type": "code",
   "execution_count": null,
   "metadata": {},
   "outputs": [],
   "source": [
    "bookctgstats btab"
   ]
  },
  {
   "cell_type": "code",
   "execution_count": null,
   "metadata": {},
   "outputs": [],
   "source": [
    "NB. categories over 20 year periods\n",
    "|: 20 bookctgstime btab"
   ]
  },
  {
   "cell_type": "markdown",
   "metadata": {},
   "source": [
    "### Books read more than once"
   ]
  },
  {
   "cell_type": "code",
   "execution_count": null,
   "metadata": {},
   "outputs": [],
   "source": [
    "wrpwid manyreads btab"
   ]
  },
  {
   "cell_type": "markdown",
   "metadata": {},
   "source": [
    "### Most frequently read authors\n",
    "\n",
    "Editors, translators, illustrators, and aliases are marked with the suffix strings `:ed:`, `:tr:`, `:ilu:`, and `:aka:` in \n",
    "the authors column. They  are removed for this calculation. They count as the `null` or empty author which shows as `;` in the following counts."
   ]
  },
  {
   "cell_type": "code",
   "execution_count": null,
   "metadata": {},
   "outputs": [],
   "source": [
    "wrpwid manyauthors btab"
   ]
  },
  {
   "cell_type": "markdown",
   "metadata": {},
   "source": [
    "### Edited and translated books."
   ]
  },
  {
   "cell_type": "code",
   "execution_count": null,
   "metadata": {},
   "outputs": [],
   "source": [
    "NB. books with marked editors\n",
    "authors=: tolower&.> }. btab {\"1~ (tolower&.> 0 { btab) i. <'author'\n",
    "\n",
    "+/ +./@(':ed:'&E.)&> authors"
   ]
  },
  {
   "cell_type": "code",
   "execution_count": null,
   "metadata": {},
   "outputs": [],
   "source": [
    "NB. books with marked translators\n",
    "+/ +./@(':tr:'&E.)&> authors"
   ]
  },
  {
   "cell_type": "markdown",
   "metadata": {},
   "source": [
    "### All done - thanks for playing!"
   ]
  }
 ],
 "metadata": {
  "kernelspec": {
   "display_name": "J",
   "language": "J",
   "name": "jkernel"
  },
  "language_info": {
   "file_extension": ".ijs",
   "mimetype": "text/J",
   "name": "J"
  }
 },
 "nbformat": 4,
 "nbformat_minor": 2
}
